{
  "cells": [
    {
      "cell_type": "markdown",
      "metadata": {
        "id": "view-in-github",
        "colab_type": "text"
      },
      "source": [
        "<a href=\"https://colab.research.google.com/github/lfelipecas/Diplomado_Ciencia_Datos/blob/main/Tareas/CuadernosTarea_1.ipynb\" target=\"_parent\"><img src=\"https://colab.research.google.com/assets/colab-badge.svg\" alt=\"Open In Colab\"/></a>"
      ]
    },
    {
      "cell_type": "markdown",
      "id": "30baa724-bada-4f75-93fa-0f40482cf789",
      "metadata": {
        "id": "30baa724-bada-4f75-93fa-0f40482cf789"
      },
      "source": [
        "<figure>\n",
        "<img src=\"https://github.com/lfelipecas/Diplomado_Ciencia_Datos/blob/main/Tareas/Imagenes/Aprendizaje_Profundo_Logo.png?raw=1\"  width=\"80\" height=\"80\" align=\"left\"/> \n",
        "</figure>\n",
        "\n",
        "# <span style=\"color:blue\"><left>Tarea 1 - Diplomado en Ciencia de Datos</left></span>"
      ]
    },
    {
      "cell_type": "markdown",
      "id": "75e5c804-ea54-44ed-bfe8-9d4cba882ec2",
      "metadata": {
        "id": "75e5c804-ea54-44ed-bfe8-9d4cba882ec2"
      },
      "source": [
        "# <span style=\"color:blue\"><center>Espacios muestrales y eventos</center></span>"
      ]
    },
    {
      "cell_type": "markdown",
      "id": "f050908f-71ab-4e1e-acb0-52c943e7f559",
      "metadata": {
        "tags": [],
        "id": "f050908f-71ab-4e1e-acb0-52c943e7f559"
      },
      "source": [
        "##   <span style=\"color:blue\"><center>Autor<center></span>"
      ]
    },
    {
      "cell_type": "markdown",
      "id": "ed65cc11-cc74-452f-b421-e00ce916c778",
      "metadata": {
        "id": "ed65cc11-cc74-452f-b421-e00ce916c778"
      },
      "source": [
        "<center>\n",
        "<figure>\n",
        "<img src=\"https://github.com/lfelipecas/Diplomado_Ciencia_Datos/blob/main/Tareas/Imagenes/LFCG.jpg?raw=1\"  width=\"100\" height=\"100\" align=\"center\"/>\n",
        "</figure>\n",
        "<center>\n",
        "<b>L. Felipe Castañeda G.</b><br>lufecasta@gmail.com.<br>\n",
        "Ingeniero Industrial"
      ]
    },
    {
      "cell_type": "markdown",
      "id": "2b5168b7-0f85-46e5-9057-93bc1e8d0245",
      "metadata": {
        "id": "2b5168b7-0f85-46e5-9057-93bc1e8d0245"
      },
      "source": [
        "<b>Nota</b>: El siguiente contenido es tomado del libro 'Fundamentos de Probabilidad y Estadística', Jay L. Devore, Cengage Learning Editores, 2019. "
      ]
    },
    {
      "cell_type": "markdown",
      "id": "21b110a0-f64d-4e42-bacc-e45719f67856",
      "metadata": {
        "id": "21b110a0-f64d-4e42-bacc-e45719f67856"
      },
      "source": [
        "## <span style=\"color:blue\">Contenido</span>"
      ]
    },
    {
      "cell_type": "markdown",
      "id": "6ce8cc7a-8b5d-4b97-85af-7f419c8cc547",
      "metadata": {
        "id": "6ce8cc7a-8b5d-4b97-85af-7f419c8cc547"
      },
      "source": [
        "1. Introducción\n",
        "1. Espacio muestral\n",
        "1. Evento\n",
        "1. Algunas relaciones de la teoría de conjuntos"
      ]
    },
    {
      "cell_type": "markdown",
      "id": "1f6fcc97-7b9e-419c-a154-0903d8bad8d9",
      "metadata": {
        "id": "1f6fcc97-7b9e-419c-a154-0903d8bad8d9"
      },
      "source": [
        "## <span style=\"color:blue\">1. Introducción</span>"
      ]
    },
    {
      "cell_type": "markdown",
      "id": "4f4b764b-d83d-410e-950e-760b4e71a8ee",
      "metadata": {
        "id": "4f4b764b-d83d-410e-950e-760b4e71a8ee"
      },
      "source": [
        "Un **experimento** es cualquier acción o proceso cuyo resultado está sujeto a la incertidumbre."
      ]
    },
    {
      "cell_type": "markdown",
      "id": "5c4df938-2fc5-472f-bac2-505cff17e4d9",
      "metadata": {
        "id": "5c4df938-2fc5-472f-bac2-505cff17e4d9"
      },
      "source": [
        "## <span style=\"color:blue\">2. Espacio muestral</span>"
      ]
    },
    {
      "cell_type": "markdown",
      "id": "04cc12ba-8a0a-4401-8054-13f842b9b8f9",
      "metadata": {
        "id": "04cc12ba-8a0a-4401-8054-13f842b9b8f9"
      },
      "source": [
        "**Definición:**\n",
        "El **espacio muestral** de un experimento, denotado por $s$, es el conjunto de todos los posibles resultados de dicho experimento."
      ]
    },
    {
      "cell_type": "markdown",
      "id": "ea1d86d6-9cc0-4972-9bb1-1d55c0029497",
      "metadata": {
        "id": "ea1d86d6-9cc0-4972-9bb1-1d55c0029497"
      },
      "source": [
        "### <span style=\"color:green\">Ejemplo</span>"
      ]
    },
    {
      "cell_type": "markdown",
      "id": "3c34da6e-f1de-48b1-a8df-b8695c78289a",
      "metadata": {
        "id": "3c34da6e-f1de-48b1-a8df-b8695c78289a"
      },
      "source": [
        "El experimento más simple en el que aplica la probabilidad es aquel con dos posibles resultados. Considerar el experimento que consiste en examinar una soldadura para saber si está defectuosa, el espacio muestral de este experimento es $s=\\{N,D\\}$, donde $N$ representa no defectuosa, $D$ representa defectuosa y las 'llaves' se usan para encerrar los elementos de un conjunto. Un experimento similar consiste en observar el sexo del siguiente niño nacido en el hospital, en el cual el espacio muestral es $s=\\{M,F\\}$ donde $M$ representa masculino y $F$ femenino."
      ]
    },
    {
      "cell_type": "markdown",
      "id": "5611b7a4-3636-4b14-bcd2-a1ecff62fa98",
      "metadata": {
        "id": "5611b7a4-3636-4b14-bcd2-a1ecff62fa98"
      },
      "source": [
        "## <span style=\"color:blue\">3. Eventos</span>"
      ]
    },
    {
      "cell_type": "markdown",
      "id": "12124d99-88c5-41c5-904f-7fd8e3cdd3c5",
      "metadata": {
        "id": "12124d99-88c5-41c5-904f-7fd8e3cdd3c5"
      },
      "source": [
        "En el estudio de la probabilidad, interesan no sólo los resultados individuales de #s# sino también varias recopilaciones de los resultados de $s$.\n",
        "\n",
        "**Definición:** Un **evento** es cualquier recopilación (subconjunto) de resultados contenidos en el espacio muestral $s$. Un evento es **simple** si consiste en exactamente un resultado y **compuesto** si consiste en más de un resultado.\n",
        "\n",
        "Cuando se realiza un experimento se dice que ocurre un evento particular A si el resultado experimental resultante está contenido en A. En general, ocurrirá exactamente un evento simple pero muchos eventos compuestos ocurrirán al mismo tiempo."
      ]
    },
    {
      "cell_type": "markdown",
      "id": "5018e33a-61be-4238-8f70-bac79415b0dd",
      "metadata": {
        "id": "5018e33a-61be-4238-8f70-bac79415b0dd"
      },
      "source": [
        "### <span style=\"color:green\">Ejemplo</span>"
      ]
    },
    {
      "cell_type": "markdown",
      "id": "be4acf44-db74-4976-bf0e-5344a9f24632",
      "metadata": {
        "id": "be4acf44-db74-4976-bf0e-5344a9f24632"
      },
      "source": [
        "Considere un experimento en el cual cada tres vehículos que toman la salida de una autopista particular viran ya sea a la izquierda ($L$) o a la derecha ($R$) al final de la rampa de salida. El espacio muestral está consituído por los ocho posibles resultados, $s = \\{LLL, RLL, LRL, LLR, LRR, RLR, RRL, RRR\\}$.\n",
        "\n",
        "Así pues existen ocho eventos simples, entre los cuales están:\n",
        "1. El evento en el que los tres vehículos giran hacia la izquierda: $E_1 = \\{LLL\\}$.\n",
        "1. El evento en el que un vehículo gira hacia la izquierda y los otros dos vehículos giran hacia la derecha: $E_5 = \\{LRR\\}$.\n",
        "\n",
        "Algunos eventos compuestos son, entre otros:\n",
        "\n",
        "1. El evento en el que sólo uno de los tres vehículos gira hacia la derecha: $A = \\{RLL, LRL, LLR\\}$.\n",
        "1. El evento en el que como máximo uno de los tres vehículos gira hacia la derecha: $B = \\{LLL, RLL, LRL, LLR\\}$.\n",
        "1. El evento en el que los tres vehículos giran en la misma dirección: $C = \\{LLL, RRR\\}$."
      ]
    },
    {
      "cell_type": "markdown",
      "id": "96fd4db8-e052-4573-92ea-cc5456d99b26",
      "metadata": {
        "id": "96fd4db8-e052-4573-92ea-cc5456d99b26"
      },
      "source": [
        "## <span style=\"color:blue\">4. Algunas relaciones de la teoría de conjuntos</span>"
      ]
    },
    {
      "cell_type": "markdown",
      "id": "377dcc18-ae4d-422a-8d76-e2c8c8ce6eb2",
      "metadata": {
        "id": "377dcc18-ae4d-422a-8d76-e2c8c8ce6eb2"
      },
      "source": [
        "Un evento es un conjunto, así que las relaciones y los resultados de la teoría elemental de conjuntos pueden ser utilizados para estudiar eventos. Se utilizarán las siguientes operaciones para crear eventos nuevos a partir de los ya dados.\n",
        "\n",
        "**Definición:**\n",
        "\n",
        "1. El **complemento** de un evento $A$, denotado por $A'$, es el conjunto de todos los resultados en $s$ que no están contenidos en $A$.\n",
        "1. La **unión** de dos eventos $A$ y $B$, denotados por $A\\cup B$ y leídos “$A$ o $B$”, es el evento que consiste en todos los resultados que están en $A$ o en $B$ o en ambos eventos (de tal suerte que la unión incluya resultados en los que ocurren tanto $A$ como $B$, así también resultados donde ocurre exactamente uno), es decir, todos los resultados en al menos uno de los eventos.\n",
        "3. La **intersección** de dos eventos $A$ y $B$, denotada por $A\\cap B$ y leída “$A$ y $B$”, es el evento que consiste en todos los resultados que están tanto en $A$ como en $B$."
      ]
    },
    {
      "cell_type": "markdown",
      "id": "6d4a90bf-abe2-4fb3-9dd6-2b5b07b82f45",
      "metadata": {
        "id": "6d4a90bf-abe2-4fb3-9dd6-2b5b07b82f45"
      },
      "source": [
        "### <span style=\"color:green\">Ejemplo</span>"
      ]
    },
    {
      "cell_type": "markdown",
      "id": "fba8df24-cb18-4862-927a-9ac208643051",
      "metadata": {
        "id": "fba8df24-cb18-4862-927a-9ac208643051"
      },
      "source": [
        "Para el experimento en el cual se observa a determinada hora del día el número de bombas en uso en una sola gasolinera de seis bombas, sean: $A = \\{0, 1, 2, 3, 4\\}$, $B = \\{3, 4, 5, 6\\}$ y $C = \\{1, 3, 5\\}$.\n",
        "\n",
        "Por tanto:\n",
        "1. $A' = \\{5, 6\\}$.\n",
        "1. $A\\cup B = \\{0, 1, 2, 3, 4, 5, 6\\} = s$.\n",
        "1. $A\\cup C = \\{0, 1, 2, 3, 4, 5\\}$.\n",
        "1. $A\\cap B = \\{3, 4\\}$.\n",
        "1. $A\\cap C = \\{1, 3\\}$.\n",
        "1. $(A\\cap C)' = \\{0, 2, 4, 5, 6\\}$."
      ]
    },
    {
      "cell_type": "markdown",
      "id": "1a7760d0-dbec-4931-9a00-670d5f3b9e9d",
      "metadata": {
        "id": "1a7760d0-dbec-4931-9a00-670d5f3b9e9d"
      },
      "source": [
        "**Nota:**\n",
        "\n",
        "En el siguiente link puede encontrar más información sobre [evento aleatorio](https://es.wikipedia.org/wiki/Evento_aleatorio).\n",
        "\n",
        "En el siguiente link puede encontrar más información sobre [espacio muestral](https://es.wikipedia.org/wiki/Espacio_muestral#:~:text=Un%20evento%20o%20suceso%20es,un%20%C3%BAnico%20elemento%20sucesos%20elementales)."
      ]
    }
  ],
  "metadata": {
    "kernelspec": {
      "display_name": "Python 3 (ipykernel)",
      "language": "python",
      "name": "python3"
    },
    "language_info": {
      "codemirror_mode": {
        "name": "ipython",
        "version": 3
      },
      "file_extension": ".py",
      "mimetype": "text/x-python",
      "name": "python",
      "nbconvert_exporter": "python",
      "pygments_lexer": "ipython3",
      "version": "3.9.12"
    },
    "colab": {
      "provenance": [],
      "collapsed_sections": [],
      "include_colab_link": true
    }
  },
  "nbformat": 4,
  "nbformat_minor": 5
}