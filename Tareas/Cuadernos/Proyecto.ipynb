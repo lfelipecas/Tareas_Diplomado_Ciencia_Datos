{
 "cells": [
  {
   "cell_type": "markdown",
   "id": "83624fda-a1f2-4399-9bef-b732e09c41ce",
   "metadata": {},
   "source": [
    "# 1. Title:\n",
    "Water demand prediction in an urban water distribution network using neural networks."
   ]
  },
  {
   "cell_type": "markdown",
   "id": "9eaf5d33-5a32-470a-8eb3-c2a9089e5543",
   "metadata": {},
   "source": [
    "# 2. Authors:\n",
    "Álvaro Mauricio Montenegro Díaz, Luis Felipe Castañeda Gallego."
   ]
  },
  {
   "cell_type": "markdown",
   "id": "388b6f84-397f-4fdf-a4d0-c23f95dfd1f2",
   "metadata": {},
   "source": [
    "# 3. Introduction\n",
    "To be defined."
   ]
  },
  {
   "cell_type": "markdown",
   "id": "27b25087-75f6-4016-b263-a8fe35f3a6d5",
   "metadata": {},
   "source": [
    "# 4. Literature review\n",
    "\n",
    "A multivariate econometric approach wich considers parameters as socio-economic characteristics, climatic factors and public water policiescombination model is developed by Li and Huicheng (2010), to forecast and manage the urban annual water demand with actual data records from 1980 tp 2007. At first, they select the factors correlative with water demand, then by means of Hodrick-Prescott (HP) filter method the trend and cyclical components of the factors are calculated. To simulate the trend components it is applied the multiple linear regression method and the fuzzy neural network is built based on the cyclical components, therefore the two models are combined to forecast the urban annual water demand.\n",
    "\n",
    "A methodology to perform adaptive Water Demand Forecasting (WDF) based on the analysis of water demand time series that makes use of Evolutionary Artificial Neural Networks (EANNs) is developed by Romano and Kapelan (2014). Their Demand Forecasting System (DFS) enables to apply two alternative WDF approaches. In the\n",
    "first place, multiple EANN models are used in parallel to separately forecast demands for different\n",
    "hours of the day. In addition, a single EANN model with a fixed forecast horizon (i.e., 1 h) is\n",
    "used in a recursive way to forecast demands. The two approaches have been tested and verified on a real-life WDS in the United Kingdom (UK).\n",
    "\n",
    "Rodriguez, Puig, Lopez and Flores (2017)..."
   ]
  },
  {
   "cell_type": "markdown",
   "id": "cb57d79c-8d2a-415c-9772-176d4f1e2a72",
   "metadata": {},
   "source": [
    "# 5. Problem definition"
   ]
  },
  {
   "cell_type": "markdown",
   "id": "af08c268-eed0-453a-8b8f-017cc76967e9",
   "metadata": {},
   "source": [
    "# 6. Problem formulation"
   ]
  },
  {
   "cell_type": "markdown",
   "id": "760f170f-d85f-4459-bd82-40ec3a3acc65",
   "metadata": {},
   "source": [
    "## 6.1. Data sources\n",
    "1. From an urban water distribution network, the monthly consumption water demand in cubic meters:<br>\n",
    "    - Plate number.<br>\n",
    "    - User number.<br>\n",
    "    - User address.<br>\n",
    "    - Service.<br>\n",
    "    - Social stratum.<br>\n",
    "    - Meter number.<br>\n",
    "    - Current month reading.<br>\n",
    "    - Previously month reading.<br>\n",
    "    - Consumption reading.<br>\n",
    "    - Month.<br>\n",
    "    - Year.<br>\n",
    "1. From the Centro de datos e Indicadores Ambientales de Caldas [(CDIAC)](https://cdiac.manizales.unal.edu.co/indicadores/public/searchClimatologicalMenu), daily and monthly weather data:<br>\n",
    "    - Precipitation.<br>\n",
    "    - Accumulated precipitation.<br>\n",
    "    - Temperature.<br>\n",
    "    - Barometric pressure.<br>\n",
    "    - Wind direction and speed.<br>\n",
    "    - Relative humidity.<br>\n",
    "    - Thermal comfort.<br>\n",
    "    - Solar irradiance.<br>\n",
    "1. From the Departamento Administrativo Nacional de Estadística [(DANE)](https://www.dane.gov.co/index.php/estadisticas-por-tema/cuentas-nacionales/cuentas-nacionales-trimestrales/historicos-producto-interno-bruto-pib), the quarterly Gross Domestic Product (GDP)."
   ]
  },
  {
   "cell_type": "markdown",
   "id": "5b7c1314-36c1-4674-9061-fa8508cff95e",
   "metadata": {},
   "source": [
    "## 6.2. ETL processing\n",
    "Recuerden que ETL significa Extracción, Transformación y Carga de datos). Describen como se hará todo el proprocesmaiento de información.  "
   ]
  },
  {
   "cell_type": "markdown",
   "id": "27785427-04d0-4e08-bb4f-47fbfd3c199f",
   "metadata": {},
   "source": [
    "## 6.3. Data mining\n",
    "Indicar que técnicas usaran inicialmente para describir y entender sus datos:\n",
    " Muestras de los datos\n",
    "Estadisticas y grafica univariadas\n",
    "Técnicas factoriales: ACP, ..."
   ]
  },
  {
   "cell_type": "markdown",
   "id": "e475167a-40f4-4e14-8f2c-71c9b3575426",
   "metadata": {},
   "source": [
    "## 6.4. Proposed modeling techniques\n",
    "1. Long Short Term Memory Networks (LSTM).\n",
    "1. Gated Recurrent Unit (GRU) networks.\n",
    "1. Temporal Fusion Transfomer (TFT) networks."
   ]
  },
  {
   "cell_type": "markdown",
   "id": "b927e7bb-bbc2-4bd6-b816-283bde6877ba",
   "metadata": {},
   "source": [
    "## 6.5. Conocimientos requeridos para el desarrollo del proyecto"
   ]
  },
  {
   "cell_type": "code",
   "execution_count": 1,
   "id": "43a68a65-ab6b-45ba-91d5-b6e3c0751a43",
   "metadata": {},
   "outputs": [],
   "source": [
    "#import collections\n",
    "#from collections import defaultdict\n",
    "from IPython import display\n",
    "import math\n",
    "from matplotlib import pyplot as plt\n",
    "import os\n",
    "import pandas as pd\n",
    "import random\n",
    "#import re\n",
    "#import shutil\n",
    "import sys\n",
    "#import tarfile\n",
    "#import time\n",
    "#import requests\n",
    "#import zipfile\n",
    "#import hashlib\n",
    "\n",
    "import numpy as np\n",
    "import tensorflow as tf\n",
    "\n",
    "%matplotlib inline\n",
    "\n",
    "# Alias\n",
    "size = lambda a: tf.size(a).numpy()"
   ]
  },
  {
   "cell_type": "markdown",
   "id": "be55a24b-3531-4df3-b0b4-a23eaeb9dfb5",
   "metadata": {},
   "source": [
    "## 6.6. Expected results\n",
    "A water demand predictive model applicable to an urban water distribution network."
   ]
  },
  {
   "cell_type": "markdown",
   "id": "713ad817-7f34-40c4-b627-ac351ae6f99d",
   "metadata": {},
   "source": [
    "## 6.7. Time needed\n",
    "6 weeks."
   ]
  },
  {
   "cell_type": "markdown",
   "id": "7bf21c91-bac6-4a3d-aa5b-163712b81a44",
   "metadata": {},
   "source": [
    "# 7. Bibliography\n",
    "\n",
    "- Al-Ghamdi, A.B., Kamel, S., Khayyat, M., 2022. A Hybrid Neural Network-based Approach for Forecasting Water Demand. Computers, Materials and Continua 73, 1365–1383. doi:10.32604/cmc.2022.026246.\n",
    "- Chen, G., Long, T., Bai, Y., Zhang, J., 2019. A Forecasting Framework Based on Kalman Filter Integrated Multivariate Local Polynomial Regression: Application to Urban Water Demand. Neural Processing Letters 50, 497–513. doi:10.1007/s11063-019-10001-3.\n",
    "- Kesornsit, W., Sirisathitkul, Y., 2022. Water consumption prediction based on machine learning methods and public data. Advances in Computational Design 7, 113–128. doi:10.12989/acd.2022.7.2.113.\n",
    "- Li, W., Huicheng, Z., 2010. Urban water demand forecasting based on HP filter and fuzzy neural network. Journal of Hydroinformatics 12, 172–184. doi:10.2166/hydro.2009.082.\n",
    "- Narayanan, L.K., Sankaranarayanan, S., Rodrigues, J.J., Kozlov, S., 2020. Water Demand Forecasting using Deep Learning in IoT Enabled Water Distribution Network. International Journal of Computers, Communications and Control 15, 1–15. doi:10.15837/ijccc.2020.6.3977.\n",
    "- Rangel, H.R., Puig, V., Farias, R.L., Flores, J.J., 2017. Short-term demand forecast using a bank of neural network models trained using genetic algorithms for the optimal management of drinking water networks. Journal of Hydroinformatics 19, 1–16. doi:10.2166/hydro.2016.199.\n",
    "- Romano, M., Kapelan, Z., 2014. Adaptive water demand forecasting for near real-time management of smart water distribution systems. Environmental Modelling and Software 60, 265–276. doi:10.1016/j.envsoft.2014.06.016.\n",
    "- Salloom, T., Kaynak, O., Yu, X., He, W., 2022. Proportional integral derivative booster for neural networks-based time-series prediction: Case of water demand prediction. Engineering Applications of Artificial Intelligence 108. doi:10.1016/j.engappai.2021.104570.\n",
    "- Xu, Y., Zhang, J., Long, Z., Lv, M., 2019. Daily Urban Water Demand Forecasting Based on Chaotic Theory and Continuous Deep Belief Neural Network. Neural Processing Letters 50, 1173–1189. doi:10.1007/s11063-018-9914-5.\n",
    "- Zanfei, A., Brentan, B.M., Menapace, A., Righetti, M., 2022. A short-term water demand forecasting model using multivariate long short-term memory with meteorological data. Journal of Hydroinformatics 24, 1053–1065. doi:10.2166/hydro.2022.055.\n",
    "- [Aprendizaje Profundo](https://github.com/AprendizajeProfundo). "
   ]
  },
  {
   "cell_type": "code",
   "execution_count": null,
   "id": "33405273-94ed-42ae-82ef-bcbc09e97b00",
   "metadata": {},
   "outputs": [],
   "source": []
  }
 ],
 "metadata": {
  "kernelspec": {
   "display_name": "Python 3 (ipykernel)",
   "language": "python",
   "name": "python3"
  },
  "language_info": {
   "codemirror_mode": {
    "name": "ipython",
    "version": 3
   },
   "file_extension": ".py",
   "mimetype": "text/x-python",
   "name": "python",
   "nbconvert_exporter": "python",
   "pygments_lexer": "ipython3",
   "version": "3.10.4"
  }
 },
 "nbformat": 4,
 "nbformat_minor": 5
}
