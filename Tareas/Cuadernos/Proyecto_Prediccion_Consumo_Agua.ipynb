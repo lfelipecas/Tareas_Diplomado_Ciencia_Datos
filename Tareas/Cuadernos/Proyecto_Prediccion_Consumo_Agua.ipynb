{
 "cells": [
  {
   "cell_type": "markdown",
   "id": "a88d0b9c-b2ed-4367-b6ee-9ec96f9d07b2",
   "metadata": {},
   "source": [
    "# <span style=\"color:cornflowerblue\"><center>Predicción del consumo mensual de agua potable en una red de distribución urbana usando una red neuronal LSTM</center></span>\n",
    "## <span style=\"color:cornflowerblue\"><center>Diplomado en Ciencia de Datos</center></span>\n",
    "### <span style=\"color:cornflowerblue\"><center>Universidad Nacional de Colombia Sede Bogotá</center></span>\n",
    "<span style=\"color:cornflowerblue\">**Estudiante**: L. Felipe Castañeda G.</span>\n",
    "\n",
    "<span style=\"color:cornflowerblue\">**Asesor**: Álvaro Mauricio Montenegro Díaz.</span>"
   ]
  },
  {
   "cell_type": "markdown",
   "id": "91cff31b-4a6e-4982-83dd-651d2e0fdd5a",
   "metadata": {},
   "source": [
    "## <span style=\"color:cornflowerblue\">Contenido</span>"
   ]
  },
  {
   "cell_type": "markdown",
   "id": "346b5660-2586-42cc-a773-86aae08fe5ae",
   "metadata": {},
   "source": [
    "## <span style=\"color:cornflowerblue\">Objetivos</span>\n",
    "- Crear un modelo de red neuronal LSTM para la predicción mensual del consumo de agua potable que use como datos de entrada una serie temporal.\n",
    "- Crear un modelo de red neuronal LSTM para la predicción mensual del consumo de agua potable que use como datos de entrada varias series temporales."
   ]
  },
  {
   "cell_type": "markdown",
   "id": "0d4837c5-8a9a-4ae1-866c-512e04a03e4e",
   "metadata": {},
   "source": [
    "## <span style=\"color:cornflowerblue\">1. Importar las librerías</span>"
   ]
  },
  {
   "cell_type": "code",
   "execution_count": 1,
   "id": "ee667e27-5956-489f-87ba-958fd35207a0",
   "metadata": {
    "slideshow": {
     "slide_type": "slide"
    }
   },
   "outputs": [
    {
     "name": "stdout",
     "output_type": "stream",
     "text": [
      "Versión de Tensorflow:  2.9.1\n"
     ]
    }
   ],
   "source": [
    "import datetime\n",
    "import matplotlib as mpl\n",
    "import matplotlib.pyplot as plt\n",
    "import numpy as np\n",
    "import pandas as pd\n",
    "import seaborn as sns\n",
    "import tensorflow as tf\n",
    "from sklearn.preprocessing import MinMaxScaler, StandardScaler\n",
    "from tensorflow.keras.layers import Input, Dense, Dropout, LSTM\n",
    "print(\"Versión de Tensorflow: \", tf.__version__)\n",
    "from tensorflow.keras.models import Model\n",
    "from tensorflow.keras.optimizers import Adam\n",
    "# from __future__ import absolute_import, division, print_function, unicode_literals"
   ]
  },
  {
   "cell_type": "markdown",
   "id": "0788aa56-7e0a-4d55-91d5-357591d10ea8",
   "metadata": {},
   "source": [
    "## <span style=\"color:cornflowerblue\">2. Lectura de los datos</span>"
   ]
  },
  {
   "cell_type": "markdown",
   "id": "43e9a972-53e0-4f8d-87f9-87a298053ce0",
   "metadata": {},
   "source": [
    "Los datos de consumo son los de una red de distribución de agua potable urbana de un municipio del departamento de Caldas. Son 783.000 observaciones del consumo mensual en metros cúbicos de los usuarios residenciales y no residenciales que van desde julio de 2017 hasta diciembre de 2021.\n",
    "\n",
    "Los datos de consumo presenan las siguientes características:\n",
    "- Número de la matrícula.\n",
    "- Nombre del suscriptor.\n",
    "- Dirección.\n",
    "- Servicio: Residencial, comercial, industrial y oficial.\n",
    "- Estrato: 1, 2, 3 y 4.\n",
    "- Número del contador.\n",
    "- Lectura actual.\n",
    "- Lectura anterior.\n",
    "- Metros consumidos.\n",
    "- Mes.\n",
    "- Año."
   ]
  },
  {
   "cell_type": "markdown",
   "id": "9141cfa6-f9ec-4107-8a31-8964875ea805",
   "metadata": {},
   "source": [
    "Los datos climatológicos corresponden a las siguientes características:\n",
    "- Año.\n",
    "- Mes.\n",
    "- Precipitaciones: Ppt (mm).\n",
    "- Días soleados: DSL (#).\n",
    "- Temperaturas máxima, mínima y promedio: TMáx (ºC), TMín (ºC) y TPro (ºC).\n",
    "- Presiones barométricas máxima, mínima y media: Máx PB (hPa), Mín PB (hPa) y Med PB (hPa).\n",
    "- Velocidad del viento promedio: VVPro (m/s).\n",
    "- Humedad relativa máxima, mínima y media: HR Máx (%), HR Mín (%) y HR Med (%).\n",
    "- Radiación solar máxima y media: RS Máx (W/m2) y RS Med (W/m2).\n",
    "- Índice de aridez mensual: IAM.\n",
    "\n",
    "Los datos climatológicos pueden ser descargados en [CEDIAC](https://cdiac.manizales.unal.edu.co/indicadores/public/index)."
   ]
  },
  {
   "cell_type": "markdown",
   "id": "a43c5810-1d98-40bb-bf9c-832d91d57a09",
   "metadata": {},
   "source": [
    "### <span style=\"color:cornflowerblue\">2.1 Lectura de los datos del consumo de agua potable</span>"
   ]
  },
  {
   "cell_type": "code",
   "execution_count": 2,
   "id": "1d55cf58-93a2-4fb3-8cf8-bbb81c764ca5",
   "metadata": {},
   "outputs": [
    {
     "ename": "KeyboardInterrupt",
     "evalue": "",
     "output_type": "error",
     "traceback": [
      "\u001b[1;31m----------------------------------------------------------------\u001b[0m",
      "\u001b[1;31mKeyboardInterrupt\u001b[0m              Traceback (most recent call last)",
      "\u001b[1;32m~\\AppData\\Local\\Temp\\ipykernel_8860\\1493593213.py\u001b[0m in \u001b[0;36m<module>\u001b[1;34m\u001b[0m\n\u001b[1;32m----> 1\u001b[1;33m \u001b[0mraw_consumo\u001b[0m \u001b[1;33m=\u001b[0m \u001b[0mpd\u001b[0m\u001b[1;33m.\u001b[0m\u001b[0mread_excel\u001b[0m\u001b[1;33m(\u001b[0m\u001b[1;34m\"..\\Data\\Consumo\\Consumo_2017_2021.xlsx\"\u001b[0m\u001b[1;33m)\u001b[0m\u001b[1;33m\u001b[0m\u001b[1;33m\u001b[0m\u001b[0m\n\u001b[0m",
      "\u001b[1;32m~\\anaconda3\\envs\\venv_UN_DS_Course\\lib\\site-packages\\pandas\\util\\_decorators.py\u001b[0m in \u001b[0;36mwrapper\u001b[1;34m(*args, **kwargs)\u001b[0m\n\u001b[0;32m    309\u001b[0m                     \u001b[0mstacklevel\u001b[0m\u001b[1;33m=\u001b[0m\u001b[0mstacklevel\u001b[0m\u001b[1;33m,\u001b[0m\u001b[1;33m\u001b[0m\u001b[1;33m\u001b[0m\u001b[0m\n\u001b[0;32m    310\u001b[0m                 )\n\u001b[1;32m--> 311\u001b[1;33m             \u001b[1;32mreturn\u001b[0m \u001b[0mfunc\u001b[0m\u001b[1;33m(\u001b[0m\u001b[1;33m*\u001b[0m\u001b[0margs\u001b[0m\u001b[1;33m,\u001b[0m \u001b[1;33m**\u001b[0m\u001b[0mkwargs\u001b[0m\u001b[1;33m)\u001b[0m\u001b[1;33m\u001b[0m\u001b[1;33m\u001b[0m\u001b[0m\n\u001b[0m\u001b[0;32m    312\u001b[0m \u001b[1;33m\u001b[0m\u001b[0m\n\u001b[0;32m    313\u001b[0m         \u001b[1;32mreturn\u001b[0m \u001b[0mwrapper\u001b[0m\u001b[1;33m\u001b[0m\u001b[1;33m\u001b[0m\u001b[0m\n",
      "\u001b[1;32m~\\anaconda3\\envs\\venv_UN_DS_Course\\lib\\site-packages\\pandas\\io\\excel\\_base.py\u001b[0m in \u001b[0;36mread_excel\u001b[1;34m(io, sheet_name, header, names, index_col, usecols, squeeze, dtype, engine, converters, true_values, false_values, skiprows, nrows, na_values, keep_default_na, na_filter, verbose, parse_dates, date_parser, thousands, decimal, comment, skipfooter, convert_float, mangle_dupe_cols, storage_options)\u001b[0m\n\u001b[0;32m    463\u001b[0m \u001b[1;33m\u001b[0m\u001b[0m\n\u001b[0;32m    464\u001b[0m     \u001b[1;32mtry\u001b[0m\u001b[1;33m:\u001b[0m\u001b[1;33m\u001b[0m\u001b[1;33m\u001b[0m\u001b[0m\n\u001b[1;32m--> 465\u001b[1;33m         data = io.parse(\n\u001b[0m\u001b[0;32m    466\u001b[0m             \u001b[0msheet_name\u001b[0m\u001b[1;33m=\u001b[0m\u001b[0msheet_name\u001b[0m\u001b[1;33m,\u001b[0m\u001b[1;33m\u001b[0m\u001b[1;33m\u001b[0m\u001b[0m\n\u001b[0;32m    467\u001b[0m             \u001b[0mheader\u001b[0m\u001b[1;33m=\u001b[0m\u001b[0mheader\u001b[0m\u001b[1;33m,\u001b[0m\u001b[1;33m\u001b[0m\u001b[1;33m\u001b[0m\u001b[0m\n",
      "\u001b[1;32m~\\anaconda3\\envs\\venv_UN_DS_Course\\lib\\site-packages\\pandas\\io\\excel\\_base.py\u001b[0m in \u001b[0;36mparse\u001b[1;34m(self, sheet_name, header, names, index_col, usecols, squeeze, converters, true_values, false_values, skiprows, nrows, na_values, parse_dates, date_parser, thousands, comment, skipfooter, convert_float, mangle_dupe_cols, **kwds)\u001b[0m\n\u001b[0;32m   1456\u001b[0m             \u001b[0mDataFrame\u001b[0m \u001b[1;32mfrom\u001b[0m \u001b[0mthe\u001b[0m \u001b[0mpassed\u001b[0m \u001b[1;32min\u001b[0m \u001b[0mExcel\u001b[0m \u001b[0mfile\u001b[0m\u001b[1;33m.\u001b[0m\u001b[1;33m\u001b[0m\u001b[1;33m\u001b[0m\u001b[0m\n\u001b[0;32m   1457\u001b[0m         \"\"\"\n\u001b[1;32m-> 1458\u001b[1;33m         return self._reader.parse(\n\u001b[0m\u001b[0;32m   1459\u001b[0m             \u001b[0msheet_name\u001b[0m\u001b[1;33m=\u001b[0m\u001b[0msheet_name\u001b[0m\u001b[1;33m,\u001b[0m\u001b[1;33m\u001b[0m\u001b[1;33m\u001b[0m\u001b[0m\n\u001b[0;32m   1460\u001b[0m             \u001b[0mheader\u001b[0m\u001b[1;33m=\u001b[0m\u001b[0mheader\u001b[0m\u001b[1;33m,\u001b[0m\u001b[1;33m\u001b[0m\u001b[1;33m\u001b[0m\u001b[0m\n",
      "\u001b[1;32m~\\anaconda3\\envs\\venv_UN_DS_Course\\lib\\site-packages\\pandas\\io\\excel\\_base.py\u001b[0m in \u001b[0;36mparse\u001b[1;34m(self, sheet_name, header, names, index_col, usecols, squeeze, dtype, true_values, false_values, skiprows, nrows, na_values, verbose, parse_dates, date_parser, thousands, decimal, comment, skipfooter, convert_float, mangle_dupe_cols, **kwds)\u001b[0m\n\u001b[0;32m    636\u001b[0m                 \u001b[0msheet\u001b[0m \u001b[1;33m=\u001b[0m \u001b[0mself\u001b[0m\u001b[1;33m.\u001b[0m\u001b[0mget_sheet_by_index\u001b[0m\u001b[1;33m(\u001b[0m\u001b[0masheetname\u001b[0m\u001b[1;33m)\u001b[0m\u001b[1;33m\u001b[0m\u001b[1;33m\u001b[0m\u001b[0m\n\u001b[0;32m    637\u001b[0m \u001b[1;33m\u001b[0m\u001b[0m\n\u001b[1;32m--> 638\u001b[1;33m             \u001b[0mdata\u001b[0m \u001b[1;33m=\u001b[0m \u001b[0mself\u001b[0m\u001b[1;33m.\u001b[0m\u001b[0mget_sheet_data\u001b[0m\u001b[1;33m(\u001b[0m\u001b[0msheet\u001b[0m\u001b[1;33m,\u001b[0m \u001b[0mconvert_float\u001b[0m\u001b[1;33m)\u001b[0m\u001b[1;33m\u001b[0m\u001b[1;33m\u001b[0m\u001b[0m\n\u001b[0m\u001b[0;32m    639\u001b[0m             \u001b[1;32mif\u001b[0m \u001b[0mhasattr\u001b[0m\u001b[1;33m(\u001b[0m\u001b[0msheet\u001b[0m\u001b[1;33m,\u001b[0m \u001b[1;34m\"close\"\u001b[0m\u001b[1;33m)\u001b[0m\u001b[1;33m:\u001b[0m\u001b[1;33m\u001b[0m\u001b[1;33m\u001b[0m\u001b[0m\n\u001b[0;32m    640\u001b[0m                 \u001b[1;31m# pyxlsb opens two TemporaryFiles\u001b[0m\u001b[1;33m\u001b[0m\u001b[1;33m\u001b[0m\u001b[0m\n",
      "\u001b[1;32m~\\anaconda3\\envs\\venv_UN_DS_Course\\lib\\site-packages\\pandas\\io\\excel\\_openpyxl.py\u001b[0m in \u001b[0;36mget_sheet_data\u001b[1;34m(self, sheet, convert_float)\u001b[0m\n\u001b[0;32m    573\u001b[0m         \u001b[0mdata\u001b[0m\u001b[1;33m:\u001b[0m \u001b[0mlist\u001b[0m\u001b[1;33m[\u001b[0m\u001b[0mlist\u001b[0m\u001b[1;33m[\u001b[0m\u001b[0mScalar\u001b[0m\u001b[1;33m]\u001b[0m\u001b[1;33m]\u001b[0m \u001b[1;33m=\u001b[0m \u001b[1;33m[\u001b[0m\u001b[1;33m]\u001b[0m\u001b[1;33m\u001b[0m\u001b[1;33m\u001b[0m\u001b[0m\n\u001b[0;32m    574\u001b[0m         \u001b[0mlast_row_with_data\u001b[0m \u001b[1;33m=\u001b[0m \u001b[1;33m-\u001b[0m\u001b[1;36m1\u001b[0m\u001b[1;33m\u001b[0m\u001b[1;33m\u001b[0m\u001b[0m\n\u001b[1;32m--> 575\u001b[1;33m         \u001b[1;32mfor\u001b[0m \u001b[0mrow_number\u001b[0m\u001b[1;33m,\u001b[0m \u001b[0mrow\u001b[0m \u001b[1;32min\u001b[0m \u001b[0menumerate\u001b[0m\u001b[1;33m(\u001b[0m\u001b[0msheet\u001b[0m\u001b[1;33m.\u001b[0m\u001b[0mrows\u001b[0m\u001b[1;33m)\u001b[0m\u001b[1;33m:\u001b[0m\u001b[1;33m\u001b[0m\u001b[1;33m\u001b[0m\u001b[0m\n\u001b[0m\u001b[0;32m    576\u001b[0m             \u001b[0mconverted_row\u001b[0m \u001b[1;33m=\u001b[0m \u001b[1;33m[\u001b[0m\u001b[0mself\u001b[0m\u001b[1;33m.\u001b[0m\u001b[0m_convert_cell\u001b[0m\u001b[1;33m(\u001b[0m\u001b[0mcell\u001b[0m\u001b[1;33m,\u001b[0m \u001b[0mconvert_float\u001b[0m\u001b[1;33m)\u001b[0m \u001b[1;32mfor\u001b[0m \u001b[0mcell\u001b[0m \u001b[1;32min\u001b[0m \u001b[0mrow\u001b[0m\u001b[1;33m]\u001b[0m\u001b[1;33m\u001b[0m\u001b[1;33m\u001b[0m\u001b[0m\n\u001b[0;32m    577\u001b[0m             \u001b[1;32mwhile\u001b[0m \u001b[0mconverted_row\u001b[0m \u001b[1;32mand\u001b[0m \u001b[0mconverted_row\u001b[0m\u001b[1;33m[\u001b[0m\u001b[1;33m-\u001b[0m\u001b[1;36m1\u001b[0m\u001b[1;33m]\u001b[0m \u001b[1;33m==\u001b[0m \u001b[1;34m\"\"\u001b[0m\u001b[1;33m:\u001b[0m\u001b[1;33m\u001b[0m\u001b[1;33m\u001b[0m\u001b[0m\n",
      "\u001b[1;32m~\\anaconda3\\envs\\venv_UN_DS_Course\\lib\\site-packages\\openpyxl\\worksheet\\_read_only.py\u001b[0m in \u001b[0;36m_cells_by_row\u001b[1;34m(self, min_col, min_row, max_col, max_row, values_only)\u001b[0m\n\u001b[0;32m     77\u001b[0m                                  \u001b[0mdata_only\u001b[0m\u001b[1;33m=\u001b[0m\u001b[0mself\u001b[0m\u001b[1;33m.\u001b[0m\u001b[0mparent\u001b[0m\u001b[1;33m.\u001b[0m\u001b[0mdata_only\u001b[0m\u001b[1;33m,\u001b[0m \u001b[0mepoch\u001b[0m\u001b[1;33m=\u001b[0m\u001b[0mself\u001b[0m\u001b[1;33m.\u001b[0m\u001b[0mparent\u001b[0m\u001b[1;33m.\u001b[0m\u001b[0mepoch\u001b[0m\u001b[1;33m,\u001b[0m\u001b[1;33m\u001b[0m\u001b[1;33m\u001b[0m\u001b[0m\n\u001b[0;32m     78\u001b[0m                                  date_formats=self.parent._date_formats)\n\u001b[1;32m---> 79\u001b[1;33m         \u001b[1;32mfor\u001b[0m \u001b[0midx\u001b[0m\u001b[1;33m,\u001b[0m \u001b[0mrow\u001b[0m \u001b[1;32min\u001b[0m \u001b[0mparser\u001b[0m\u001b[1;33m.\u001b[0m\u001b[0mparse\u001b[0m\u001b[1;33m(\u001b[0m\u001b[1;33m)\u001b[0m\u001b[1;33m:\u001b[0m\u001b[1;33m\u001b[0m\u001b[1;33m\u001b[0m\u001b[0m\n\u001b[0m\u001b[0;32m     80\u001b[0m             \u001b[1;32mif\u001b[0m \u001b[0mmax_row\u001b[0m \u001b[1;32mis\u001b[0m \u001b[1;32mnot\u001b[0m \u001b[1;32mNone\u001b[0m \u001b[1;32mand\u001b[0m \u001b[0midx\u001b[0m \u001b[1;33m>\u001b[0m \u001b[0mmax_row\u001b[0m\u001b[1;33m:\u001b[0m\u001b[1;33m\u001b[0m\u001b[1;33m\u001b[0m\u001b[0m\n\u001b[0;32m     81\u001b[0m                 \u001b[1;32mbreak\u001b[0m\u001b[1;33m\u001b[0m\u001b[1;33m\u001b[0m\u001b[0m\n",
      "\u001b[1;32m~\\anaconda3\\envs\\venv_UN_DS_Course\\lib\\site-packages\\openpyxl\\worksheet\\_reader.py\u001b[0m in \u001b[0;36mparse\u001b[1;34m(self)\u001b[0m\n\u001b[0;32m    142\u001b[0m         \u001b[0mit\u001b[0m \u001b[1;33m=\u001b[0m \u001b[0miterparse\u001b[0m\u001b[1;33m(\u001b[0m\u001b[0mself\u001b[0m\u001b[1;33m.\u001b[0m\u001b[0msource\u001b[0m\u001b[1;33m)\u001b[0m \u001b[1;31m# add a finaliser to close the source when this becomes possible\u001b[0m\u001b[1;33m\u001b[0m\u001b[1;33m\u001b[0m\u001b[0m\n\u001b[0;32m    143\u001b[0m \u001b[1;33m\u001b[0m\u001b[0m\n\u001b[1;32m--> 144\u001b[1;33m         \u001b[1;32mfor\u001b[0m \u001b[0m_\u001b[0m\u001b[1;33m,\u001b[0m \u001b[0melement\u001b[0m \u001b[1;32min\u001b[0m \u001b[0mit\u001b[0m\u001b[1;33m:\u001b[0m\u001b[1;33m\u001b[0m\u001b[1;33m\u001b[0m\u001b[0m\n\u001b[0m\u001b[0;32m    145\u001b[0m             \u001b[0mtag_name\u001b[0m \u001b[1;33m=\u001b[0m \u001b[0melement\u001b[0m\u001b[1;33m.\u001b[0m\u001b[0mtag\u001b[0m\u001b[1;33m\u001b[0m\u001b[1;33m\u001b[0m\u001b[0m\n\u001b[0;32m    146\u001b[0m             \u001b[1;32mif\u001b[0m \u001b[0mtag_name\u001b[0m \u001b[1;32min\u001b[0m \u001b[0mdispatcher\u001b[0m\u001b[1;33m:\u001b[0m\u001b[1;33m\u001b[0m\u001b[1;33m\u001b[0m\u001b[0m\n",
      "\u001b[1;32m~\\anaconda3\\envs\\venv_UN_DS_Course\\lib\\xml\\etree\\ElementTree.py\u001b[0m in \u001b[0;36miterator\u001b[1;34m(source)\u001b[0m\n\u001b[0;32m   1253\u001b[0m                 \u001b[1;32myield\u001b[0m \u001b[1;32mfrom\u001b[0m \u001b[0mpullparser\u001b[0m\u001b[1;33m.\u001b[0m\u001b[0mread_events\u001b[0m\u001b[1;33m(\u001b[0m\u001b[1;33m)\u001b[0m\u001b[1;33m\u001b[0m\u001b[1;33m\u001b[0m\u001b[0m\n\u001b[0;32m   1254\u001b[0m                 \u001b[1;31m# load event buffer\u001b[0m\u001b[1;33m\u001b[0m\u001b[1;33m\u001b[0m\u001b[0m\n\u001b[1;32m-> 1255\u001b[1;33m                 \u001b[0mdata\u001b[0m \u001b[1;33m=\u001b[0m \u001b[0msource\u001b[0m\u001b[1;33m.\u001b[0m\u001b[0mread\u001b[0m\u001b[1;33m(\u001b[0m\u001b[1;36m16\u001b[0m \u001b[1;33m*\u001b[0m \u001b[1;36m1024\u001b[0m\u001b[1;33m)\u001b[0m\u001b[1;33m\u001b[0m\u001b[1;33m\u001b[0m\u001b[0m\n\u001b[0m\u001b[0;32m   1256\u001b[0m                 \u001b[1;32mif\u001b[0m \u001b[1;32mnot\u001b[0m \u001b[0mdata\u001b[0m\u001b[1;33m:\u001b[0m\u001b[1;33m\u001b[0m\u001b[1;33m\u001b[0m\u001b[0m\n\u001b[0;32m   1257\u001b[0m                     \u001b[1;32mbreak\u001b[0m\u001b[1;33m\u001b[0m\u001b[1;33m\u001b[0m\u001b[0m\n",
      "\u001b[1;32m~\\anaconda3\\envs\\venv_UN_DS_Course\\lib\\zipfile.py\u001b[0m in \u001b[0;36mread\u001b[1;34m(self, n)\u001b[0m\n\u001b[0;32m    923\u001b[0m         \u001b[0mself\u001b[0m\u001b[1;33m.\u001b[0m\u001b[0m_offset\u001b[0m \u001b[1;33m=\u001b[0m \u001b[1;36m0\u001b[0m\u001b[1;33m\u001b[0m\u001b[1;33m\u001b[0m\u001b[0m\n\u001b[0;32m    924\u001b[0m         \u001b[1;32mwhile\u001b[0m \u001b[0mn\u001b[0m \u001b[1;33m>\u001b[0m \u001b[1;36m0\u001b[0m \u001b[1;32mand\u001b[0m \u001b[1;32mnot\u001b[0m \u001b[0mself\u001b[0m\u001b[1;33m.\u001b[0m\u001b[0m_eof\u001b[0m\u001b[1;33m:\u001b[0m\u001b[1;33m\u001b[0m\u001b[1;33m\u001b[0m\u001b[0m\n\u001b[1;32m--> 925\u001b[1;33m             \u001b[0mdata\u001b[0m \u001b[1;33m=\u001b[0m \u001b[0mself\u001b[0m\u001b[1;33m.\u001b[0m\u001b[0m_read1\u001b[0m\u001b[1;33m(\u001b[0m\u001b[0mn\u001b[0m\u001b[1;33m)\u001b[0m\u001b[1;33m\u001b[0m\u001b[1;33m\u001b[0m\u001b[0m\n\u001b[0m\u001b[0;32m    926\u001b[0m             \u001b[1;32mif\u001b[0m \u001b[0mn\u001b[0m \u001b[1;33m<\u001b[0m \u001b[0mlen\u001b[0m\u001b[1;33m(\u001b[0m\u001b[0mdata\u001b[0m\u001b[1;33m)\u001b[0m\u001b[1;33m:\u001b[0m\u001b[1;33m\u001b[0m\u001b[1;33m\u001b[0m\u001b[0m\n\u001b[0;32m    927\u001b[0m                 \u001b[0mself\u001b[0m\u001b[1;33m.\u001b[0m\u001b[0m_readbuffer\u001b[0m \u001b[1;33m=\u001b[0m \u001b[0mdata\u001b[0m\u001b[1;33m\u001b[0m\u001b[1;33m\u001b[0m\u001b[0m\n",
      "\u001b[1;32m~\\anaconda3\\envs\\venv_UN_DS_Course\\lib\\zipfile.py\u001b[0m in \u001b[0;36m_read1\u001b[1;34m(self, n)\u001b[0m\n\u001b[0;32m    999\u001b[0m         \u001b[1;32melif\u001b[0m \u001b[0mself\u001b[0m\u001b[1;33m.\u001b[0m\u001b[0m_compress_type\u001b[0m \u001b[1;33m==\u001b[0m \u001b[0mZIP_DEFLATED\u001b[0m\u001b[1;33m:\u001b[0m\u001b[1;33m\u001b[0m\u001b[1;33m\u001b[0m\u001b[0m\n\u001b[0;32m   1000\u001b[0m             \u001b[0mn\u001b[0m \u001b[1;33m=\u001b[0m \u001b[0mmax\u001b[0m\u001b[1;33m(\u001b[0m\u001b[0mn\u001b[0m\u001b[1;33m,\u001b[0m \u001b[0mself\u001b[0m\u001b[1;33m.\u001b[0m\u001b[0mMIN_READ_SIZE\u001b[0m\u001b[1;33m)\u001b[0m\u001b[1;33m\u001b[0m\u001b[1;33m\u001b[0m\u001b[0m\n\u001b[1;32m-> 1001\u001b[1;33m             \u001b[0mdata\u001b[0m \u001b[1;33m=\u001b[0m \u001b[0mself\u001b[0m\u001b[1;33m.\u001b[0m\u001b[0m_decompressor\u001b[0m\u001b[1;33m.\u001b[0m\u001b[0mdecompress\u001b[0m\u001b[1;33m(\u001b[0m\u001b[0mdata\u001b[0m\u001b[1;33m,\u001b[0m \u001b[0mn\u001b[0m\u001b[1;33m)\u001b[0m\u001b[1;33m\u001b[0m\u001b[1;33m\u001b[0m\u001b[0m\n\u001b[0m\u001b[0;32m   1002\u001b[0m             self._eof = (self._decompressor.eof or\n\u001b[0;32m   1003\u001b[0m                          \u001b[0mself\u001b[0m\u001b[1;33m.\u001b[0m\u001b[0m_compress_left\u001b[0m \u001b[1;33m<=\u001b[0m \u001b[1;36m0\u001b[0m \u001b[1;32mand\u001b[0m\u001b[1;33m\u001b[0m\u001b[1;33m\u001b[0m\u001b[0m\n",
      "\u001b[1;31mKeyboardInterrupt\u001b[0m: "
     ]
    }
   ],
   "source": [
    "raw_consumo = pd.read_excel(\"..\\Data\\Consumo\\Consumo_2017_2021.xlsx\")"
   ]
  },
  {
   "cell_type": "markdown",
   "id": "b28c5a2d-9631-47f6-a2a6-a138ed2e8a9c",
   "metadata": {},
   "source": [
    "### <span style=\"color:cornflowerblue\">2.2 Lectura de los datos climatológicos</span>"
   ]
  },
  {
   "cell_type": "code",
   "execution_count": null,
   "id": "145efdd8-8124-49da-a846-78b526ebb126",
   "metadata": {},
   "outputs": [],
   "source": [
    "# Read clima excel file.\n",
    "raw_clima = pd.read_excel(\"..\\Data\\Climatologicos_Mensual\\Climatologicos_Mensual_2017_2022.xlsx\")"
   ]
  },
  {
   "cell_type": "markdown",
   "id": "9dde91be-85f3-4724-947c-079ff569b08b",
   "metadata": {},
   "source": [
    "### Realizar copias de los datos leídos."
   ]
  },
  {
   "cell_type": "code",
   "execution_count": null,
   "id": "d7286819-6799-4955-82d7-017e97c813c3",
   "metadata": {},
   "outputs": [],
   "source": [
    "# Make a copy\n",
    "consumo = raw_consumo.copy()"
   ]
  },
  {
   "cell_type": "code",
   "execution_count": null,
   "id": "369daae9-f8df-4c30-b25d-8d8673120a68",
   "metadata": {},
   "outputs": [],
   "source": [
    "# Make a copy\n",
    "clima = raw_clima.copy()"
   ]
  },
  {
   "cell_type": "markdown",
   "id": "3728fdf9-7d00-4782-89ee-32a25544ebc4",
   "metadata": {},
   "source": [
    "## <span style=\"color:cornflowerblue\">3. Limpieza y organización de los datos</span>"
   ]
  },
  {
   "cell_type": "markdown",
   "id": "b8de701a-4d98-461e-893e-1c43f6229cdc",
   "metadata": {},
   "source": [
    "### <span style=\"color:cornflowerblue\">3.1 Limpieza y organización de los datos para el consumo de agua potable</span>"
   ]
  },
  {
   "cell_type": "code",
   "execution_count": null,
   "id": "1f7e3d76-4404-44dc-a798-5c387e3f7d7e",
   "metadata": {
    "slideshow": {
     "slide_type": "slide"
    }
   },
   "outputs": [],
   "source": [
    "consumo.info()"
   ]
  },
  {
   "cell_type": "markdown",
   "id": "2aafae3e-c408-43ed-8568-0a3e910c3dfe",
   "metadata": {},
   "source": [
    "Revisar si las caractarísticas útiles en el análisis presentan filas sin datos."
   ]
  },
  {
   "cell_type": "code",
   "execution_count": null,
   "id": "5da9a353-4960-423d-b9df-019a3ab414fb",
   "metadata": {},
   "outputs": [],
   "source": [
    "consumo.isna().sum()"
   ]
  },
  {
   "cell_type": "markdown",
   "id": "55453db5-41b4-4fde-a572-b9649f3f366b",
   "metadata": {},
   "source": [
    "La columna 'NumeroContador'presenta 42 filas sin datos. En este caso, como se analizará el consumo, no se borran esas 42 filas."
   ]
  },
  {
   "cell_type": "markdown",
   "id": "233ac994-5971-403c-b11b-5ce30619e612",
   "metadata": {},
   "source": [
    "Remover aquellas filas en las que el consumo sea menor que cero."
   ]
  },
  {
   "cell_type": "code",
   "execution_count": null,
   "id": "2c79e9bc-1145-4572-afd9-f5f1e3f71100",
   "metadata": {},
   "outputs": [],
   "source": [
    "consumo = consumo.drop(consumo.index[consumo['MetrosConsumidos'] < 0])\n",
    "consumo.shape"
   ]
  },
  {
   "cell_type": "markdown",
   "id": "89867b5c-6e18-40ff-b349-c84cf8aa7b84",
   "metadata": {},
   "source": [
    "Remover las columnas que no se utilizarán en el análisis."
   ]
  },
  {
   "cell_type": "code",
   "execution_count": null,
   "id": "5c154907-f81a-433b-bceb-c53e124422e6",
   "metadata": {},
   "outputs": [],
   "source": [
    "consumo.drop(['Matricula',\"NombreSuscriptor\",\"Direccion\",\"NumeroContador\",'Servicio','Estrato'],\n",
    "             axis=1, inplace=True)\n",
    "consumo.columns"
   ]
  },
  {
   "cell_type": "markdown",
   "id": "e5ec856a-872b-424c-bbcd-64d0cb752e29",
   "metadata": {},
   "source": [
    "Realizar una limpieza en la columna 'Mes'."
   ]
  },
  {
   "cell_type": "code",
   "execution_count": null,
   "id": "1cd7703b-3381-41fe-9bd7-a37209ba6a82",
   "metadata": {},
   "outputs": [],
   "source": [
    "consumo[\"Mes\"] = (consumo[\"Mes\"]\n",
    "                          # .str.lower()\n",
    "                          #.str.replace(\"[^a-záéíóúüñ ]\",\"\")\n",
    "                          # .str.replace(\" +\",\" \")\n",
    "                          .str.replace('[^\\w+]|\\d+|\\s+|_',' ', regex=True)\n",
    "                          .str.strip()\n",
    "                          # .str.title()\n",
    "                          )\n",
    "consumo[\"Mes\"].astype(\"str\")\n",
    "consumo[\"Mes\"].head(12)"
   ]
  },
  {
   "cell_type": "markdown",
   "id": "26972db8-bdf1-4f1a-9804-96ca28009aea",
   "metadata": {},
   "source": [
    "Cambiar el nombre del mes por su número correspondiente en la columna 'Mes'."
   ]
  },
  {
   "cell_type": "code",
   "execution_count": null,
   "id": "aea3a830-d4ad-4ac4-8605-8f02bfcb5326",
   "metadata": {
    "slideshow": {
     "slide_type": "slide"
    }
   },
   "outputs": [],
   "source": [
    "cm_dict = {'ENERO':1,'FEBRERO':2,'MARZO':3,'ABRIL':4,'MAYO':5,'JUNIO':6,\n",
    "          'JULIO':7,'AGOSTO':8,'SEPTIEMBRE':9,'OCTUBRE':10,'NOVIEMBRE':11,'DICIEMBRE':12}\n",
    "consumo = consumo.replace({'Mes':cm_dict})\n",
    "consumo.head()"
   ]
  },
  {
   "cell_type": "markdown",
   "id": "17acfeda-cad7-4ddc-882a-42183e6753eb",
   "metadata": {},
   "source": [
    "Crear una columna 'day' con valores iguales a '1'."
   ]
  },
  {
   "cell_type": "code",
   "execution_count": null,
   "id": "0140a50d-5112-4407-abb0-59f12277723c",
   "metadata": {
    "slideshow": {
     "slide_type": "slide"
    }
   },
   "outputs": [],
   "source": [
    "consumo[\"day\"] = 1\n",
    "day_consumo = consumo[\"day\"]\n",
    "consumo.head()"
   ]
  },
  {
   "cell_type": "markdown",
   "id": "bec7b8ec-fae9-4322-bd46-8fbf026e0271",
   "metadata": {},
   "source": [
    "Cambiar el nombre de las columnas 'Ano' y 'Mes', para crear una columna 'Date' con características de fecha en el formato 'AAAA-MM-DD'."
   ]
  },
  {
   "cell_type": "code",
   "execution_count": null,
   "id": "08916bbd-6021-4b8c-9110-d6e4cf5d6a2c",
   "metadata": {
    "slideshow": {
     "slide_type": "slide"
    }
   },
   "outputs": [],
   "source": [
    "consumo.rename(columns = {'Ano':'year','Mes':'month'}, inplace=True)\n",
    "consumo['Date'] = pd.to_datetime(consumo[[\"year\",\"month\",\"day\"]])\n",
    "consumo.head()"
   ]
  },
  {
   "cell_type": "markdown",
   "id": "93a9f55c-9e81-49fa-a100-1e4e8ecd6199",
   "metadata": {},
   "source": [
    "Borrar las columnas 'year', 'month' y 'day'."
   ]
  },
  {
   "cell_type": "code",
   "execution_count": null,
   "id": "7635fa91-5193-4882-92dd-4a0947ec78a4",
   "metadata": {},
   "outputs": [],
   "source": [
    "consumo.drop([\"year\",\"month\",\"day\"], axis=1,inplace=True) #inplace=True, para que me modifique la BD\n",
    "consumo.head()"
   ]
  },
  {
   "cell_type": "markdown",
   "id": "746987dc-ce49-4f4a-9d02-1190408d5acf",
   "metadata": {},
   "source": [
    "Crear un dataframe llamado 'consumo' con las columnas 'Date', 'MetrosConsumidos', 'LecturaActual' y 'LecturaAnterior'."
   ]
  },
  {
   "cell_type": "code",
   "execution_count": null,
   "id": "21c9e5bd-c0ae-4dcf-b529-60a4d8ca733a",
   "metadata": {},
   "outputs": [],
   "source": [
    "consumo['Date'] = pd.to_datetime(consumo.Date,format='%Y-%m-%d')\n",
    "consumo = pd.DataFrame(consumo[['Date','MetrosConsumidos','LecturaActual','LecturaAnterior']])\n",
    "consumo.head()"
   ]
  },
  {
   "cell_type": "code",
   "execution_count": null,
   "id": "93e3ef05-4438-4b3e-b7f1-dce7abb2ec54",
   "metadata": {},
   "outputs": [],
   "source": [
    "consumo.info()"
   ]
  },
  {
   "cell_type": "markdown",
   "id": "f38c1144-361c-42a5-ba93-12cdd034c246",
   "metadata": {},
   "source": [
    "Creación del dataframe 'consumo_mensual', agrupando el dataframe 'consumo' por fecha 'Date'"
   ]
  },
  {
   "cell_type": "code",
   "execution_count": null,
   "id": "c062266f-e358-4f62-ac3a-35fb4ac872b8",
   "metadata": {},
   "outputs": [],
   "source": [
    "consumo_mensual = consumo.groupby('Date',as_index=False).sum()\n",
    "consumo_mensual.info()"
   ]
  },
  {
   "cell_type": "code",
   "execution_count": null,
   "id": "f5c4cc53-36af-4b87-bebf-99783eca61d8",
   "metadata": {},
   "outputs": [],
   "source": [
    "consumo_mensual.shape"
   ]
  },
  {
   "cell_type": "code",
   "execution_count": null,
   "id": "0620a690-4fdb-45b7-b4a6-af88eeb71d41",
   "metadata": {},
   "outputs": [],
   "source": [
    "consumo_mensual.head()"
   ]
  },
  {
   "cell_type": "markdown",
   "id": "2551c1ce-aa1a-48e5-aaef-d3a49fc17e1b",
   "metadata": {},
   "source": [
    "### 3.2 Limpieza y organización de datos climatológicos"
   ]
  },
  {
   "cell_type": "code",
   "execution_count": null,
   "id": "a8b1fe10-f6fc-43b4-b0de-f746b993433c",
   "metadata": {},
   "outputs": [],
   "source": [
    "print('Shape of the clima:')\n",
    "print(clima.shape)"
   ]
  },
  {
   "cell_type": "code",
   "execution_count": null,
   "id": "d5c57230-0a7a-4206-8549-9eabb718c881",
   "metadata": {},
   "outputs": [],
   "source": [
    "clima.head()"
   ]
  },
  {
   "cell_type": "code",
   "execution_count": null,
   "id": "88e78f72-c313-4f71-aa14-69fd7aae511d",
   "metadata": {},
   "outputs": [],
   "source": [
    "clima.info()"
   ]
  },
  {
   "cell_type": "markdown",
   "id": "6723a8e0-fac7-40cb-b834-e5284a7d8be0",
   "metadata": {},
   "source": [
    "Remover aquellas filas cuyas entradas no contengan datos."
   ]
  },
  {
   "cell_type": "code",
   "execution_count": null,
   "id": "344dbe9b-510b-4bd9-989a-ec0ed6a07b1f",
   "metadata": {},
   "outputs": [],
   "source": [
    "clima.isna().sum()"
   ]
  },
  {
   "cell_type": "code",
   "execution_count": null,
   "id": "c8d582e0-ce8d-4d39-9928-7d291efc1027",
   "metadata": {},
   "outputs": [],
   "source": [
    "clima = clima.dropna()\n",
    "clima.shape"
   ]
  },
  {
   "cell_type": "markdown",
   "id": "a18a29a5-ed30-49d2-9a3a-ae5cb2061faa",
   "metadata": {},
   "source": [
    "Remover las columnas que no se utilizarán en el análisis."
   ]
  },
  {
   "cell_type": "code",
   "execution_count": null,
   "id": "1023aa1c-c5f2-4322-82e5-aaca87af61fa",
   "metadata": {},
   "outputs": [],
   "source": [
    "clima.drop(['EB', 'DB', 'EB.1', 'DB.1', 'CI', 'SE', 'ZAM'], axis=1, inplace=True)\n",
    "clima.columns"
   ]
  },
  {
   "cell_type": "code",
   "execution_count": null,
   "id": "3dd8f222-6954-4013-82b1-fb48d9ee3557",
   "metadata": {},
   "outputs": [],
   "source": [
    "clima.head()"
   ]
  },
  {
   "cell_type": "markdown",
   "id": "4b230fea-9c2f-494d-a0b8-423dd8ed9a59",
   "metadata": {},
   "source": [
    "Crear una columna 'day' con valores iguales a '1'."
   ]
  },
  {
   "cell_type": "code",
   "execution_count": null,
   "id": "cf7d1248-d633-46e2-befd-c1405b081905",
   "metadata": {},
   "outputs": [],
   "source": [
    "clima[\"day\"] = 1\n",
    "day_clima = clima[\"day\"]\n",
    "clima.head()"
   ]
  },
  {
   "cell_type": "markdown",
   "id": "868e929b-14ea-44cd-ad9c-098917ce67bd",
   "metadata": {},
   "source": [
    "Cambiar el nombre de algunas columnas."
   ]
  },
  {
   "cell_type": "code",
   "execution_count": null,
   "id": "946f1875-cc1b-4c17-9a3d-9915d6caa32a",
   "metadata": {},
   "outputs": [],
   "source": [
    "# Rename some columns from 'clima'\n",
    "clima.rename(columns={\"Año\":\"year\", \"Mes\": \"month\", \"Ppt (mm)\":\"Ppt\", \"DSL (#)\": \"DSL\", 'TMáx (ºC)':'TMax','TMín (ºC)':'TMin','TPro (ºC)':'TPro',\n",
    "                      'Máx PB (hPa)':'PBMax','Mín PB (hPa)':'PBMin','Med PB (hPa)':'PBMed',\n",
    "                      'HR Máx (%)':'HRMax','HR Mín (%)':'HRMin',\"HR Med (%)\":\"HRMed\",\n",
    "                      'RS Máx (W/m2)':'RSMax',\"RS Med (W/m2)\":\"RSMed\"},inplace=True)\n",
    "clima.columns"
   ]
  },
  {
   "cell_type": "markdown",
   "id": "25186178-7ae2-4bf0-b801-c371351a8598",
   "metadata": {},
   "source": [
    "Crear una columna 'Date' con características de fecha en el formato 'AAAA-MM-DD'."
   ]
  },
  {
   "cell_type": "code",
   "execution_count": null,
   "id": "74735b34-60c9-4b56-82f0-c6fe28a5e5d5",
   "metadata": {
    "slideshow": {
     "slide_type": "slide"
    }
   },
   "outputs": [],
   "source": [
    "clima['Date'] = pd.to_datetime(clima[[\"year\",\"month\",\"day\"]])\n",
    "clima.head()"
   ]
  },
  {
   "cell_type": "markdown",
   "id": "dcb72083-aaa0-4fc5-90ba-c4008da7225b",
   "metadata": {},
   "source": [
    "Crear el dataframe 'clima_mensual' con las columnas de interés."
   ]
  },
  {
   "cell_type": "code",
   "execution_count": null,
   "id": "27d96f88-a04a-4f2f-91eb-2fd637513699",
   "metadata": {},
   "outputs": [],
   "source": [
    "clima['Date'] = pd.to_datetime(clima.Date,format='%Y-%m-%d')\n",
    "clima_mensual = pd.DataFrame(clima[['Date','Ppt', 'DSL', 'TMax', 'TMin', 'TPro', 'PBMax', 'PBMin', 'PBMed',\n",
    "       'VVPro', 'HRMax', 'HRMin', 'HRMed', 'RSMax', 'RSMed', 'IAM']])\n",
    "clima_mensual.head()"
   ]
  },
  {
   "cell_type": "code",
   "execution_count": null,
   "id": "f7930e30-9069-4b52-9e49-3263d8c9f284",
   "metadata": {},
   "outputs": [],
   "source": [
    "clima_mensual.info()"
   ]
  },
  {
   "cell_type": "markdown",
   "id": "4326fe39-f954-47ff-a9b7-6531868900fd",
   "metadata": {},
   "source": [
    "### 3.3 Concatenación de los dataframe 'Consumo' y 'Clima' y creación de 'dataframe'"
   ]
  },
  {
   "cell_type": "code",
   "execution_count": null,
   "id": "677d5a8f-e155-48ec-aa52-2cf79805e826",
   "metadata": {},
   "outputs": [],
   "source": [
    "dataframe = pd.concat([consumo_mensual.set_index('Date'),clima_mensual.set_index('Date')], axis=1, join='inner').reset_index()\n",
    "dataframe.head()"
   ]
  },
  {
   "cell_type": "code",
   "execution_count": null,
   "id": "2efe31a6-95bb-4b61-bc44-253891dec8a2",
   "metadata": {},
   "outputs": [],
   "source": [
    "dataframe.info()"
   ]
  },
  {
   "cell_type": "markdown",
   "id": "1f073022-f05c-4a0e-8c6d-82543c9ef524",
   "metadata": {},
   "source": [
    "Indexar 'dataframe' usando la columna 'Date'."
   ]
  },
  {
   "cell_type": "code",
   "execution_count": null,
   "id": "29360465-fe78-4d88-a869-4321ef1c8ff1",
   "metadata": {},
   "outputs": [],
   "source": [
    "# Index 'dataframe' by 'Date'\n",
    "dataframe = dataframe.set_index('Date')\n",
    "dataframe.head()"
   ]
  },
  {
   "cell_type": "code",
   "execution_count": null,
   "id": "17df9e99-af84-4993-9285-829e9288e582",
   "metadata": {},
   "outputs": [],
   "source": [
    "dataframe.info()"
   ]
  },
  {
   "cell_type": "markdown",
   "id": "17b58b39-6296-45bc-90f9-175417037ffb",
   "metadata": {},
   "source": [
    "## <span style=\"color:cornflowerblue\">4. Análisis exploratorio inicial</span>"
   ]
  },
  {
   "cell_type": "markdown",
   "id": "6543c8e8-5c3a-488a-beae-54428d4351b2",
   "metadata": {},
   "source": [
    "### 4.1 Crear una matriz de correlación usando las columnas del dataframe"
   ]
  },
  {
   "cell_type": "code",
   "execution_count": null,
   "id": "0aeb2c23-8058-407f-8940-ded942d7d9b9",
   "metadata": {
    "slideshow": {
     "slide_type": "slide"
    }
   },
   "outputs": [],
   "source": [
    "corr_matrix_dataframe = dataframe.corr()\n",
    "plt.figure(figsize=(15,5))\n",
    "sns.heatmap(corr_matrix_dataframe, annot=True, linewidths=.25, fmt=\".2f\")"
   ]
  },
  {
   "cell_type": "markdown",
   "id": "9873bc60-5be6-4247-8de0-a0002f53d1b7",
   "metadata": {},
   "source": [
    "### 4.2 Seleccionar columnas definitivas"
   ]
  },
  {
   "cell_type": "markdown",
   "id": "b8b8994f-9d98-425f-bfbb-26e802d5b00e",
   "metadata": {},
   "source": [
    "Para la predicción de la serie temporal 'Consumo' solo se utilizarán aquellas características que tengan una correlación menor o igual a $-0.15$, o mayor o igual a $0.15$. Dichas características son:\n",
    "- 'MetrosConsumidos': Consumo.\n",
    "- 'LecturaActual': Lectura actual.\n",
    "- 'TMax': Temperatura máxima.\n",
    "- 'PBMax': Presión barométrica máxima.\n",
    "- 'VVPro'. Velocidad del viento promedio.\n",
    "- 'RSMax': Radiación solar máxima.\n",
    "\n",
    "Se decidió excluir 'LecturaAnterior' pues así como 'LecturaActual', la primera también es un acumulado mensual del consumo de cada usuario."
   ]
  },
  {
   "cell_type": "code",
   "execution_count": null,
   "id": "3e21e01d-61d9-4702-b966-0c326ecaebb1",
   "metadata": {},
   "outputs": [],
   "source": [
    "dataframe = pd.DataFrame(dataframe[['MetrosConsumidos','LecturaActual', 'TMax', 'PBMax', 'VVPro', 'RSMax']])"
   ]
  },
  {
   "cell_type": "code",
   "execution_count": null,
   "id": "56b64080-6a7a-47d3-9fc5-192b8f59e99f",
   "metadata": {},
   "outputs": [],
   "source": [
    "corr_matrix_dataframe = dataframe.corr()\n",
    "plt.figure(figsize=(10,3))\n",
    "sns.heatmap(corr_matrix_dataframe, annot=True, linewidths=.25, fmt=\".2f\")"
   ]
  },
  {
   "cell_type": "markdown",
   "id": "b397d262-0553-4002-8538-df1527a89607",
   "metadata": {},
   "source": [
    "### 4.3 Estandarización de las columnas"
   ]
  },
  {
   "cell_type": "code",
   "execution_count": null,
   "id": "ca12b39e-c374-46c4-b047-5aca068e1458",
   "metadata": {},
   "outputs": [],
   "source": [
    "scaler = StandardScaler()\n",
    "  \n",
    "dataframe_standard_scaled = scaler.fit_transform(dataframe)\n",
    "dataframe_standard_scaled = pd.DataFrame(dataframe_standard_scaled, columns = ['MetrosConsumidos','LecturaActual', 'TMax', 'PBMax',\n",
    "                                                                              'VVPro', 'RSMax'])"
   ]
  },
  {
   "cell_type": "code",
   "execution_count": null,
   "id": "d5993263-34f2-4c8e-8148-e27b82a04039",
   "metadata": {},
   "outputs": [],
   "source": [
    "dataframe_standard_scaled.describe().transpose()"
   ]
  },
  {
   "cell_type": "markdown",
   "id": "00c9fa2d-a9c4-43b2-86e6-051be59a2c37",
   "metadata": {},
   "source": [
    "### 4.4 Visualización del consumo y las demás series de interés "
   ]
  },
  {
   "cell_type": "code",
   "execution_count": null,
   "id": "3de508fc-ce57-449b-ad9f-a2ec0efe4aab",
   "metadata": {},
   "outputs": [],
   "source": [
    "plt.figure(figsize=(9,4))\n",
    "plt.plot(dataframe_standard_scaled['MetrosConsumidos'], label='Consumo')\n",
    "plt.plot(dataframe_standard_scaled['LecturaActual'], label='Lectura actual')\n",
    "plt.title(\"Consumo y lectura actual escalados\", size = 10)\n",
    "plt.legend()\n",
    "plt.show()"
   ]
  },
  {
   "cell_type": "code",
   "execution_count": null,
   "id": "83ff2a4d-d50b-477f-9a21-2cec2f02ceb2",
   "metadata": {},
   "outputs": [],
   "source": [
    "plt.figure(figsize=(9,4))\n",
    "plt.plot(dataframe_standard_scaled['MetrosConsumidos'], label='Consumo')\n",
    "plt.plot(dataframe_standard_scaled['TMax'], label='Temperatura máxima')\n",
    "plt.title(\"Consumo y temperatura máxima escalados\", size = 10)\n",
    "plt.legend()\n",
    "plt.show()"
   ]
  },
  {
   "cell_type": "code",
   "execution_count": null,
   "id": "daff40a0-5980-4ac7-a4bb-eeefeb315921",
   "metadata": {},
   "outputs": [],
   "source": [
    "plt.figure(figsize=(9,4))\n",
    "plt.plot(dataframe_standard_scaled['MetrosConsumidos'], label='Consumo')\n",
    "plt.plot(dataframe_standard_scaled['PBMax'], label='Presión barométrica máxima')\n",
    "plt.title(\"Consumo y presión barométrica máxima escalados\", size = 10)\n",
    "plt.legend()\n",
    "plt.show()"
   ]
  },
  {
   "cell_type": "code",
   "execution_count": null,
   "id": "c59c85cc-c7d2-4f0a-a276-6c800c62f036",
   "metadata": {},
   "outputs": [],
   "source": [
    "plt.figure(figsize=(9,4))\n",
    "plt.plot(dataframe_standard_scaled['MetrosConsumidos'], label='Consumo')\n",
    "plt.plot(dataframe_standard_scaled['VVPro'], label='Velocidad del viento promedio')\n",
    "plt.title(\"Consumo y velocidad del viento promedio escalados\", size = 10)\n",
    "plt.legend()\n",
    "plt.show()"
   ]
  },
  {
   "cell_type": "code",
   "execution_count": null,
   "id": "aaa106b4-d916-4d1f-9e3d-dc5a90cce7af",
   "metadata": {},
   "outputs": [],
   "source": [
    "plt.figure(figsize=(9,4))\n",
    "plt.plot(dataframe_standard_scaled['MetrosConsumidos'], label='Consumo')\n",
    "plt.plot(dataframe_standard_scaled['RSMax'], label='Radiación solar máxima')\n",
    "plt.title(\"Consumo y radiación solar máxima escalados\", size = 10)\n",
    "plt.legend()\n",
    "plt.show()"
   ]
  },
  {
   "cell_type": "markdown",
   "id": "81b12fbe-955f-4bfc-9ca8-637dbc869b10",
   "metadata": {},
   "source": [
    "## <span style=\"color:cornflowerblue\">5. Predicción mensual del consumo de agua potable usando una red neuronal LSTM</span>"
   ]
  },
  {
   "cell_type": "markdown",
   "id": "5d916a88-0351-4b06-9eea-725cb1f8be17",
   "metadata": {},
   "source": [
    "En Python una red neuronal LSTM se puede crear usando la librería [TensorFlow](https://www.tensorflow.org/) por medio de:\n",
    "\n",
    "1. [tf.keras.layers.Input()](https://www.tensorflow.org/api_docs/python/tf/keras/Input): se usa para instanciar un tensor de Keras el cual se aumenta con ciertos atributos que permiten construir un modelo, solo conociendo las entradas y las salidas del modelo. El argumento 'shape' de esta función es una tupla de valores enteros.\n",
    "2. [tf.keras.layers.Dropout()](https://www.tensorflow.org/api_docs/python/tf/keras/layers/Dropout): se usa para aplicar una salida a la respectiva entrada. La capa 'Dropout' establece aleatoriamente valores iguales a cero a las unidades de entrada con una frecuencia que es igual al argumento 'rate' en cada paso durante el proceso de entrenamiento, lo cual ayuda a evitar el sobre ajuste (overfitting). El argumento 'rate' de esta función es un valor flotante entre 0 y 1, y es la fracción de las unidades de entrada a 'abandonar'.\n",
    "3. [tf.keras.layers.LSTM()](https://www.tensorflow.org/api_docs/python/tf/keras/layers/LSTM): Es la capa de LSTM como tal. El argumento 'units' es un entero positivo que indica la dimensionalidad del espacio de salida.\n",
    "4. [tf.keras.layers.Dense()](https://www.tensorflow.org/api_docs/python/tf/keras/layers/Dense): Es la capa densamente conectada de la red neuronal."
   ]
  },
  {
   "cell_type": "markdown",
   "id": "d9d4b95e-3820-49b9-aa67-325fc5766506",
   "metadata": {},
   "source": [
    "### 5.1 Preparación de los datos para el entrenamiento"
   ]
  },
  {
   "cell_type": "markdown",
   "id": "0953d8eb-47d1-476e-9ee8-b0ff233f8199",
   "metadata": {},
   "source": [
    "#### Extracción de las series que se van a utilizar para predecir el consumo"
   ]
  },
  {
   "cell_type": "code",
   "execution_count": null,
   "id": "c3188485-b253-4340-a1ca-d9b4e221de62",
   "metadata": {},
   "outputs": [],
   "source": [
    "dataset_consumo = pd.DataFrame(dataframe['MetrosConsumidos'], index=dataframe.index)\n",
    "dataset_lecturaactual = pd.DataFrame(dataframe['LecturaActual'], index=dataframe.index)\n",
    "dataset_tmax = pd.DataFrame(dataframe['TMax'], index=dataframe.index)\n",
    "dataset_pbmax = pd.DataFrame(dataframe['PBMax'], index=dataframe.index)\n",
    "dataset_vvpro = pd.DataFrame(dataframe['VVPro'], index=dataframe.index)\n",
    "dataset_rsmax = pd.DataFrame(dataframe['RSMax'], index=dataframe.index)"
   ]
  },
  {
   "cell_type": "markdown",
   "id": "30933370-6b21-4a3d-a62a-eca75ea9a715",
   "metadata": {},
   "source": [
    "Revisar el tipo de las series:"
   ]
  },
  {
   "cell_type": "code",
   "execution_count": null,
   "id": "5807d240-691a-478c-840b-92bca400ff3b",
   "metadata": {},
   "outputs": [],
   "source": [
    "print('dataset_consumo type is: ', type(dataset_consumo))\n",
    "print('dataset_lecturaactual type is: ', type(dataset_lecturaactual))\n",
    "print('dataset_tmax type is: ', type(dataset_tmax))\n",
    "print('dataset_pbmax type is: ', type(dataset_pbmax))\n",
    "print('dataset_vvpro type is: ', type(dataset_vvpro))\n",
    "print('dataset_rsmax type is: ', type(dataset_rsmax))"
   ]
  },
  {
   "cell_type": "markdown",
   "id": "b5a9e99b-1096-4c22-adbe-0b9cfc3181c7",
   "metadata": {},
   "source": [
    "Revisar la forma de las series:"
   ]
  },
  {
   "cell_type": "code",
   "execution_count": null,
   "id": "b237b927-6080-4a10-9eb3-13ceee8ef292",
   "metadata": {},
   "outputs": [],
   "source": [
    "print('dataset_consumo shape is: ', dataset_consumo.shape)\n",
    "print('dataset_lecturaactual shape is: ', dataset_lecturaactual.shape)\n",
    "print('dataset_tmax shape is: ', dataset_tmax.shape)\n",
    "print('dataset_pbmax shape is: ', dataset_pbmax.shape)\n",
    "print('dataset_vvpro shape is: ', dataset_vvpro.shape)\n",
    "print('dataset_rsmax shape is: ', dataset_rsmax.shape)\n",
    "print('dataframe shape is: ', dataframe.shape)"
   ]
  },
  {
   "cell_type": "markdown",
   "id": "949743b7-8512-47d6-bc40-21d0f2374a3b",
   "metadata": {},
   "source": [
    "#### Extracción de los valores de cada una de las series"
   ]
  },
  {
   "cell_type": "code",
   "execution_count": null,
   "id": "0a52ece1-89bf-42f5-b366-17bee70ef02c",
   "metadata": {},
   "outputs": [],
   "source": [
    "dataset_consumo_values = dataset_consumo.values\n",
    "dataset_lecturaactual_values = dataset_lecturaactual.values\n",
    "dataset_tmax_values = dataset_tmax.values\n",
    "dataset_pbmax_values = dataset_pbmax.values\n",
    "dataset_vvpro_values = dataset_vvpro.values\n",
    "dataset_rsmax_values = dataset_rsmax.values\n",
    "dataset_values = dataframe.values"
   ]
  },
  {
   "cell_type": "markdown",
   "id": "62702949-5a75-4917-976b-8aaaa97c7eab",
   "metadata": {},
   "source": [
    "Revisar el tipo de los valores de las series:"
   ]
  },
  {
   "cell_type": "code",
   "execution_count": null,
   "id": "64686d08-792d-44b3-8778-3aa3c1129403",
   "metadata": {},
   "outputs": [],
   "source": [
    "print('dataset_consumo_values type is: ', type(dataset_consumo_values))\n",
    "print('dataset_lecturaactual_values type is: ', type(dataset_lecturaactual_values))\n",
    "print('dataset_tmax_values type is: ', type(dataset_tmax_values))\n",
    "print('dataset_pbmax_values type is: ', type(dataset_pbmax_values))\n",
    "print('dataset_vvpro_values type is: ', type(dataset_vvpro_values))\n",
    "print('dataset_rsmax_values type is: ', type(dataset_rsmax_values))\n",
    "print('dataset_values type is: ', type(dataset_values))"
   ]
  },
  {
   "cell_type": "markdown",
   "id": "f3915c55-d61a-4038-a8d9-0d4594794516",
   "metadata": {},
   "source": [
    "Revisar la forma de los valores de las series."
   ]
  },
  {
   "cell_type": "code",
   "execution_count": null,
   "id": "9aac5cb5-736a-418b-a9b4-aa615a6225fa",
   "metadata": {},
   "outputs": [],
   "source": [
    "print('dataset_consumo_values shape is: ', dataset_consumo_values.shape)\n",
    "print('dataset_lecturaactual_values shape is: ', dataset_lecturaactual_values.shape)\n",
    "print('dataset_tmax shape_values is: ', dataset_tmax_values.shape)\n",
    "print('dataset_pbmax_values shape is: ', dataset_pbmax_values.shape)\n",
    "print('dataset_vvpro_values shape is: ', dataset_vvpro_values.shape)\n",
    "print('dataset_rsmax_values shape is: ', dataset_rsmax_values.shape)\n",
    "print('dataset_values shape is: ', dataset_values.shape)"
   ]
  },
  {
   "cell_type": "markdown",
   "id": "91fb0cb4-8128-4428-9081-77fce81db768",
   "metadata": {},
   "source": [
    "#### Escalar los valores de las series"
   ]
  },
  {
   "cell_type": "markdown",
   "id": "2fae6181-774c-4975-b38d-4e471547bcc7",
   "metadata": {},
   "source": [
    "Crear el objeto 'scaler':"
   ]
  },
  {
   "cell_type": "code",
   "execution_count": null,
   "id": "7fc30cc5-d23e-4a97-a435-856f9c2b9785",
   "metadata": {},
   "outputs": [],
   "source": [
    "scaler = MinMaxScaler(feature_range=(0, 1))"
   ]
  },
  {
   "cell_type": "markdown",
   "id": "e8759470-c6c6-4dc3-b35d-527f2145351a",
   "metadata": {},
   "source": [
    "Escalar las series:"
   ]
  },
  {
   "cell_type": "code",
   "execution_count": null,
   "id": "74739254-11ff-444c-b3dc-a1553a7733e9",
   "metadata": {},
   "outputs": [],
   "source": [
    "scaled_consumo = np.squeeze(np.array(scaler.fit_transform(dataset_consumo_values)), axis=1)\n",
    "scaled_lecturaactual = np.squeeze(np.array(scaler.fit_transform(dataset_lecturaactual_values)), axis=1)\n",
    "scaled_tmax = np.squeeze(np.array(scaler.fit_transform(dataset_tmax_values)), axis=1)\n",
    "scaled_pbmax = np.squeeze(np.array(scaler.fit_transform(dataset_pbmax_values)), axis=1)\n",
    "scaled_vvpro = np.squeeze(np.array(scaler.fit_transform(dataset_vvpro_values)), axis=1)\n",
    "scaled_rsmax = np.squeeze(np.array(scaler.fit_transform(dataset_rsmax_values)), axis=1)\n",
    "scaled_dataset = np.squeeze(np.array(scaler.fit_transform(dataset_values)))"
   ]
  },
  {
   "cell_type": "markdown",
   "id": "f6c6f0c2-cb79-4319-9cba-14a6b078359d",
   "metadata": {},
   "source": [
    "Revisar el tipo de las series escaladas:"
   ]
  },
  {
   "cell_type": "code",
   "execution_count": null,
   "id": "994d7f87-527b-4d9e-b200-026c81758f3c",
   "metadata": {},
   "outputs": [],
   "source": [
    "print('scaled_consumo type is: ', type(scaled_consumo))\n",
    "print('scaled_lecturaactual type is: ', type(scaled_lecturaactual))\n",
    "print('scaled_tmax type is: ', type(scaled_tmax))\n",
    "print('scaled_pbmax type is: ', type(scaled_pbmax))\n",
    "print('scaled_vvpro type is: ', type(scaled_vvpro))\n",
    "print('scaled_rsmax type is: ', type(scaled_rsmax))\n",
    "print('scaled_dataset type is:', type(scaled_dataset))"
   ]
  },
  {
   "cell_type": "markdown",
   "id": "96b461c1-2ce9-4fa1-90bd-ae2532cf0995",
   "metadata": {},
   "source": [
    "Revisar la forma de las series escaladas:"
   ]
  },
  {
   "cell_type": "code",
   "execution_count": null,
   "id": "651149c7-6546-413f-b22b-a015f5cd942d",
   "metadata": {},
   "outputs": [],
   "source": [
    "print('scaled_consumo shape is: ', scaled_consumo.shape)\n",
    "print('scaled_lecturaactual shape is: ', scaled_lecturaactual.shape)\n",
    "print('scaled_tmax shape is: ', scaled_tmax.shape)\n",
    "print('scaled_pbmax shape is: ', scaled_pbmax.shape)\n",
    "print('scaled_vvpro shape is: ', scaled_vvpro.shape)\n",
    "print('scaled_rsmax shape is: ', scaled_rsmax.shape)\n",
    "print('scaled_dataset shape is:', scaled_dataset.shape)"
   ]
  },
  {
   "cell_type": "markdown",
   "id": "bd068b17-d0c7-48c4-970f-5b20d1dd1087",
   "metadata": {},
   "source": [
    "### 5.2 Función para crear los datos de entrenamiento"
   ]
  },
  {
   "cell_type": "markdown",
   "id": "53c2ebc7-7846-4f24-a73c-3963c8c8c139",
   "metadata": {},
   "source": [
    "La siguiente función se usará en cada caso de predicción para crear los datos de entrenamiento:"
   ]
  },
  {
   "cell_type": "code",
   "execution_count": null,
   "id": "30881301-0a58-48f3-b630-1f9dafaeed81",
   "metadata": {},
   "outputs": [],
   "source": [
    "def multipaso_data(dataset, target, start_index, end_index, history_size, target_size, single_step=False):\n",
    "    ''' dataset: conjunto de datos para las secuencias de entrada\n",
    "        target:  conjunto de datos para las secuencias de salida\n",
    "        start_index: índice inicial para tomar los datos\n",
    "        end_index: índice final para tomar los datos. None para tomarlos todos\n",
    "        history_size: tamaño de la ventana para crear las secuencias\n",
    "        target_size: número de observaciones que se desean pronosticar\n",
    "        single_step: 'True' para predecir un valor futuro, 'False' para predecir todos los valores hasta target_size\n",
    "    '''  \n",
    "    data = []\n",
    "    labels = []\n",
    "\n",
    "    start_index = start_index + history_size\n",
    "    if end_index is None:\n",
    "        end_index = len(dataset) - history_size\n",
    "\n",
    "    for i in range(start_index, end_index):\n",
    "        indices = range(i-history_size, i)\n",
    "        data.append(dataset[indices])\n",
    "\n",
    "        if single_step:\n",
    "            labels.append(target[i+target_size])\n",
    "        else:\n",
    "            labels.append(target[i:i+target_size])\n",
    "\n",
    "    return np.array(data), np.array(labels)"
   ]
  },
  {
   "cell_type": "markdown",
   "id": "8162cc70-5f6a-4d77-8132-df266a3742e2",
   "metadata": {},
   "source": [
    "### <span style=\"color:cornflowerblue\">5.3 Predicción del consumo usando la serie 'Consumo'</span>"
   ]
  },
  {
   "cell_type": "markdown",
   "id": "a8d90581-fed1-493b-b507-3fab1252e2bc",
   "metadata": {},
   "source": [
    "#### Creación de los datos de entrenamiento y validación"
   ]
  },
  {
   "cell_type": "markdown",
   "id": "4b0afe6f-1ebd-4cf0-ab6c-711de928fab0",
   "metadata": {},
   "source": [
    "Revisar las longuitudes de la serie, de los datos de entrenamiento y de los datos de validación:"
   ]
  },
  {
   "cell_type": "code",
   "execution_count": null,
   "id": "4090ad72-e490-49e8-a883-2f665d0142c9",
   "metadata": {},
   "outputs": [],
   "source": [
    "len_data = len(dataset_consumo)\n",
    "len_train = int(len_data*0.8)\n",
    "len_test = len_data - len_train\n",
    "print('Longitud de la serie = Longitud de entrenamiento + Longuitud de validación\\n', len_data, ' = ', len_train, ' + ', len_test)"
   ]
  },
  {
   "cell_type": "markdown",
   "id": "4c9fbb17-bacd-4845-9857-f9b1469d2ec3",
   "metadata": {},
   "source": [
    "Como se usará el $80\\%$ de los datos de la serie para entrenamiento y la longuitud de la misma es muy corta, en este caso para fines prácticos y de aplicación del modelo, se usarán un periodo de predección de 3 meses y una ventana de tiempo de 3 meses. Lo anterior para que la función de creación de los datos de entrenamiento y de validación pueda crear vectores de validación que no sean nulos.\n",
    "\n",
    "**Nota:** Si se reduce el porcentaje de datos de entrenamiento, se podrían incrementar los periodos de predicción y de ventana de tiempo, pero debido a que la serie temporal es muy corta, dicho incremento sería pequeño.  "
   ]
  },
  {
   "cell_type": "code",
   "execution_count": null,
   "id": "94d07129-7b91-4406-9952-169521fc928f",
   "metadata": {},
   "outputs": [],
   "source": [
    "periods_to_predict = 3\n",
    "window_size = 3\n",
    "train_data_len = int(len_data*0.8)\n",
    "\n",
    "X_train, y_train = multipaso_data(\n",
    "    dataset=scaled_consumo, # Conjunto de datos para las secuencias de entrada\n",
    "    target=scaled_consumo, # Conjunto de datos para las secuencias de salida\n",
    "    start_index=0, # Índice inicial de donde empezar a tomar los datos\n",
    "    end_index=train_data_len, # Índice final para tomar los datos. None para tomarlos todos\n",
    "    history_size=window_size, # Tamaño de la venytana para crear las secuencias\n",
    "    target_size=periods_to_predict, # Dentro de cuántas observaciones futuras desea pronosticar\n",
    "    single_step=False #Predecir solamente un valor futuro (=True), predecir todos los valores hasta target_size(=False)\n",
    ")\n",
    "\n",
    "X_test, y_test = multipaso_data(\n",
    "    dataset=scaled_consumo,\n",
    "    target=scaled_consumo,\n",
    "    start_index=train_data_len,\n",
    "    end_index=None,\n",
    "    history_size=window_size,\n",
    "    target_size=periods_to_predict,\n",
    "    single_step=False\n",
    ")"
   ]
  },
  {
   "cell_type": "markdown",
   "id": "1eff4976-dd75-480f-9e1c-c78306acc82d",
   "metadata": {},
   "source": [
    "Revisar el tipo de los datos de entrenamiento y validación:"
   ]
  },
  {
   "cell_type": "code",
   "execution_count": null,
   "id": "3def36f4-ed4d-4fc8-b9b2-4d5cc8aba6cb",
   "metadata": {},
   "outputs": [],
   "source": [
    "print(\"X_train type is: \", type(X_train))\n",
    "print(\"y_train is: \", type(y_train))\n",
    "print(\"X_test is: \", type(X_test))\n",
    "print(\"y_test is: \", type(y_test))"
   ]
  },
  {
   "cell_type": "markdown",
   "id": "8827b0ad-7382-407f-9b22-c9f9f21f78c7",
   "metadata": {},
   "source": [
    "Revisar la forma de los datos de entrenamiento y validación:"
   ]
  },
  {
   "cell_type": "code",
   "execution_count": null,
   "id": "de6fc6a5-8c1a-432e-9c17-3baa559b221e",
   "metadata": {},
   "outputs": [],
   "source": [
    "print(\"X_train shape is: \", X_train.shape)\n",
    "print(\"y_train shape is: \", y_train.shape)\n",
    "print(\"X_test shape is: \", X_test.shape)\n",
    "print(\"y_test shape is: \", y_test.shape)"
   ]
  },
  {
   "cell_type": "markdown",
   "id": "4acb546d-0c31-46b5-8cfe-4b377e0d9e68",
   "metadata": {},
   "source": [
    "#### Generar una semilla para garantizar reproductividad"
   ]
  },
  {
   "cell_type": "code",
   "execution_count": null,
   "id": "f39f476f-e59b-4b2d-b6b6-4c8a7cee5540",
   "metadata": {},
   "outputs": [],
   "source": [
    "tf.random.set_seed(100)"
   ]
  },
  {
   "cell_type": "markdown",
   "id": "189a1ebf-ebbd-4208-bb68-77286f9aadb4",
   "metadata": {},
   "source": [
    "#### Crear el modelo LSTM"
   ]
  },
  {
   "cell_type": "markdown",
   "id": "4e27f81f-09a7-44c1-a480-32fcb7f720da",
   "metadata": {},
   "source": [
    "La forma de los datos de entrada:"
   ]
  },
  {
   "cell_type": "code",
   "execution_count": null,
   "id": "547741e8-c5b7-4795-bcd1-10a0e5fa3282",
   "metadata": {},
   "outputs": [],
   "source": [
    "input_shape = (X_train.shape[1], 1)\n",
    "units = 50"
   ]
  },
  {
   "cell_type": "markdown",
   "id": "28706469-e20c-46fc-9935-609a744e2e57",
   "metadata": {},
   "source": [
    "Las capas:"
   ]
  },
  {
   "cell_type": "code",
   "execution_count": null,
   "id": "53bbbff5-c265-40f6-a90d-24cd0d9ba97d",
   "metadata": {},
   "outputs": [],
   "source": [
    "inputs = tf.keras.layers.Input(shape=input_shape, batch_size=None, name=None, dtype=None, sparse=None, tensor=None, ragged=None,\n",
    "                                       type_spec=None, # **kwargs\n",
    "                              )\n",
    "x = tf.keras.layers.Dropout(rate=0.1, noise_shape=None, seed=None, # **kwargs,\n",
    "            name='Dropout_01')(inputs)\n",
    "x = tf.keras.layers.LSTM(units=units, name='LSTM_layer')(x)\n",
    "x = tf.keras.layers.Dropout(0.1, name= 'Dropout_02')(x)\n",
    "outputs = tf.keras.layers.Dense(periods_to_predict)(x)"
   ]
  },
  {
   "cell_type": "markdown",
   "id": "07f685d3-300a-47cd-b592-7a7b324a666c",
   "metadata": {},
   "source": [
    "Creación del modelo:"
   ]
  },
  {
   "cell_type": "code",
   "execution_count": null,
   "id": "00964f5d-d961-4376-abd4-e7c3e0a39cbe",
   "metadata": {},
   "outputs": [],
   "source": [
    "model_consumo_consumo_03 = tf.keras.models.Model(inputs=inputs, outputs=outputs, name='series_LSTM_model')\n",
    "model_consumo_consumo_03.summary()"
   ]
  },
  {
   "cell_type": "markdown",
   "id": "f1fb6b9d-0569-49cf-bf3c-1f23436565d2",
   "metadata": {},
   "source": [
    "Compilación del modelo usando el optimizador Adam y la función de pérdida MSE:"
   ]
  },
  {
   "cell_type": "code",
   "execution_count": null,
   "id": "eadbe3f5-43f5-4509-b42d-2a9b27922f9d",
   "metadata": {},
   "outputs": [],
   "source": [
    "model_consumo_consumo_03.compile(loss='mean_squared_error', optimizer=Adam(0.001))"
   ]
  },
  {
   "cell_type": "markdown",
   "id": "dfa8a753-91dd-41cd-b68b-b68bc5320804",
   "metadata": {},
   "source": [
    "Entrenamiento del modelo:"
   ]
  },
  {
   "cell_type": "code",
   "execution_count": null,
   "id": "4629777f-780d-4431-8c25-80efe380fa84",
   "metadata": {},
   "outputs": [],
   "source": [
    "history = model_consumo_consumo_03.fit(X_train, y_train, batch_size=32, epochs=150, verbose=1, validation_split=0.1, shuffle=False)"
   ]
  },
  {
   "cell_type": "markdown",
   "id": "f12068bf-5011-424b-b913-1a3ea1afc31b",
   "metadata": {},
   "source": [
    "Visualización de los 'valores de pérdida de los datos de entrenamiento' y de los 'valores de pérdida de los datos de validación', para 'epoch' consecutivos."
   ]
  },
  {
   "cell_type": "code",
   "execution_count": null,
   "id": "2e0f72ee-0f2d-40df-9a1d-294fe8d9d50a",
   "metadata": {},
   "outputs": [],
   "source": [
    "plt.figure(figsize=(8,4))\n",
    "plt.plot(history.history['loss'], label='Entrenamiento')\n",
    "plt.plot(history.history['val_loss'], label='Validación')\n",
    "plt.title(\"Valores de pérdida de los datos de entrenamiento y de validación. Escala (0,1)\", size = 10)\n",
    "plt.legend();"
   ]
  },
  {
   "cell_type": "code",
   "execution_count": null,
   "id": "dc165932-f400-41ff-920b-ff330aef8542",
   "metadata": {},
   "outputs": [],
   "source": [
    "X_test.shape"
   ]
  },
  {
   "cell_type": "markdown",
   "id": "ff59d149-f7c6-4cb7-bae8-da6222423192",
   "metadata": {},
   "source": [
    "#### Generación de las predicciones para las muestras de entrada:"
   ]
  },
  {
   "cell_type": "code",
   "execution_count": null,
   "id": "9548579b-eb5c-4053-af65-a499b102a9ea",
   "metadata": {},
   "outputs": [],
   "source": [
    "prediction = model_consumo_consumo_03.predict(X_test)"
   ]
  },
  {
   "cell_type": "markdown",
   "id": "35c95a1b-9320-4a98-8e95-cb43733177ed",
   "metadata": {},
   "source": [
    "Revisar las formas de los datos de validación y las predicciones:"
   ]
  },
  {
   "cell_type": "code",
   "execution_count": null,
   "id": "b1330b0f-7195-4596-a772-bc25865f3b21",
   "metadata": {},
   "outputs": [],
   "source": [
    "print(X_test.shape)\n",
    "print(prediction.shape)\n",
    "print(y_test.shape)"
   ]
  },
  {
   "cell_type": "markdown",
   "id": "f8147996-803c-45aa-b220-ccb571921c0b",
   "metadata": {},
   "source": [
    "#### Visualización de las predicciones"
   ]
  },
  {
   "cell_type": "code",
   "execution_count": null,
   "id": "ca6cd302-4972-49e1-be24-b432da8715bb",
   "metadata": {},
   "outputs": [],
   "source": [
    "pred =0\n",
    "y_train_p = X_test[pred,:]\n",
    "y_test_p = y_test[pred,:]\n",
    "y_pred_p = prediction[pred,:]"
   ]
  },
  {
   "cell_type": "code",
   "execution_count": null,
   "id": "2ee7401c-2f74-4710-8d08-01ce88f7d82b",
   "metadata": {},
   "outputs": [],
   "source": [
    "plt.figure(figsize=(8,4))\n",
    "plt.plot(np.arange(0, len(y_train_p)), y_train_p, 'g', marker='.', label=\"Consumo histórico\")\n",
    "plt.plot(np.arange(len(y_train_p), len(y_train_p) + len(y_test_p)), y_test_p, marker='.', label=\"Consumo\")\n",
    "plt.plot(np.arange(len(y_train_p), len(y_train_p) + len(y_test_p)), y_pred_p, 'r', marker='.', label=\"Predicción del consumo\")\n",
    "#plt.ylabel('Valor')\n",
    "plt.xlabel('Time Step')\n",
    "plt.title(\"Predicción del consumo de agua para tres periodos usando la serie 'Consumo'. Escala (0,1)\", size = 10)\n",
    "plt.legend()\n",
    "plt.show();"
   ]
  },
  {
   "cell_type": "code",
   "execution_count": null,
   "id": "99ba1896-9da6-4c12-9cdf-a5b36e80a89e",
   "metadata": {},
   "outputs": [],
   "source": [
    "model_consumo_consumo_03.save('../Data/modelo_consumo_consumo_03.h5')"
   ]
  },
  {
   "cell_type": "markdown",
   "id": "ab108424-7da6-48a9-9797-9c78955ddfd6",
   "metadata": {},
   "source": [
    "### <span style=\"color:cornflowerblue\">5.4 Predicción del consumo usando la serie 'Lectura actual'</span>"
   ]
  },
  {
   "cell_type": "markdown",
   "id": "8a24ebd5-0c88-44c0-a5df-b31a2494d08e",
   "metadata": {},
   "source": [
    "#### Creación de los datos de entrenamiento y validación"
   ]
  },
  {
   "cell_type": "markdown",
   "id": "91e9a03b-b2ac-45a2-b091-94e17ac28921",
   "metadata": {},
   "source": [
    "Revisar las longuitudes de la serie, de los datos de entrenamiento y de los datos de validación:"
   ]
  },
  {
   "cell_type": "code",
   "execution_count": null,
   "id": "c990f09e-09dc-481f-8716-37efa97a0698",
   "metadata": {},
   "outputs": [],
   "source": [
    "len_data = len(dataset_consumo)\n",
    "len_train = int(len_data*0.8)\n",
    "len_test = len_data - len_train\n",
    "print('Longitud de la serie = Longitud de entrenamiento + Longuitud de validación\\n', len_data, ' = ', len_train, ' + ', len_test)"
   ]
  },
  {
   "cell_type": "markdown",
   "id": "d4bb3f8c-cf04-4aec-a081-48e42fe71cae",
   "metadata": {},
   "source": [
    "Como se usará el $80\\%$ de los datos de la serie para entrenamiento y la longuitud de la misma es muy corta, en este caso para fines prácticos y de aplicación del modelo, se usarán un periodo de predección de 3 meses y una ventana de tiempo de 3 meses. Lo anterior para que la función de creación de los datos de entrenamiento y de validación pueda crear vectores de validación que no sean nulos.\n",
    "\n",
    "**Nota:** Si se reduce el porcentaje de datos de entrenamiento, se podrían incrementar los periodos de predicción y de ventana de tiempo, pero debido a que la serie temporal es muy corta, dicho incremento sería pequeño.  "
   ]
  },
  {
   "cell_type": "code",
   "execution_count": null,
   "id": "9059076f-5bdf-4880-a3d9-f0b871ce410b",
   "metadata": {},
   "outputs": [],
   "source": [
    "periods_to_predict = 3\n",
    "window_size = 3\n",
    "train_data_len = int(len_data*0.8)\n",
    "\n",
    "X_train, y_train = multipaso_data(\n",
    "    dataset=scaled_lecturaactual, # Conjunto de datos para las secuencias de entrada\n",
    "    target=scaled_consumo, # Conjunto de datos para las secuencias de salida\n",
    "    start_index=0, # Índice inicial de donde empezar a tomar los datos\n",
    "    end_index=train_data_len, # Índice final para tomar los datos. None para tomarlos todos\n",
    "    history_size=window_size, # Tamaño de la venytana para crear las secuencias\n",
    "    target_size=periods_to_predict, # Dentro de cuántas observaciones futuras desea pronosticar\n",
    "    single_step=False #Predecir solamente un valor futuro (=True), predecir todos los valores hasta target_size(=False)\n",
    ")\n",
    "\n",
    "X_test, y_test = multipaso_data(\n",
    "    dataset=scaled_lecturaactual,\n",
    "    target=scaled_consumo,\n",
    "    start_index=train_data_len,\n",
    "    end_index=None,\n",
    "    history_size=window_size,\n",
    "    target_size=periods_to_predict,\n",
    "    single_step=False\n",
    ")"
   ]
  },
  {
   "cell_type": "markdown",
   "id": "a4968d88-fe73-4090-8b67-146289f1ecd7",
   "metadata": {},
   "source": [
    "Revisar el tipo de los datos de entrenamiento y validación:"
   ]
  },
  {
   "cell_type": "code",
   "execution_count": null,
   "id": "7efe0b13-c033-4e3b-b561-c5dc50f91a73",
   "metadata": {},
   "outputs": [],
   "source": [
    "print(\"X_train type is: \", type(X_train))\n",
    "print(\"y_train is: \", type(y_train))\n",
    "print(\"X_test is: \", type(X_test))\n",
    "print(\"y_test is: \", type(y_test))"
   ]
  },
  {
   "cell_type": "markdown",
   "id": "2ad9ea30-38e5-4447-a224-b67feac1fb6d",
   "metadata": {},
   "source": [
    "Revisar la forma de los datos de entrenamiento y validación:"
   ]
  },
  {
   "cell_type": "code",
   "execution_count": null,
   "id": "6cbb34c1-1c66-44cd-8dcb-08a49c908467",
   "metadata": {},
   "outputs": [],
   "source": [
    "print(\"X_train shape is: \", X_train.shape)\n",
    "print(\"y_train shape is: \", y_train.shape)\n",
    "print(\"X_test shape is: \", X_test.shape)\n",
    "print(\"y_test shape is: \", y_test.shape)"
   ]
  },
  {
   "cell_type": "markdown",
   "id": "fe964a7f-7df4-4c1f-9e88-d657fcc4ee68",
   "metadata": {},
   "source": [
    "#### Generar una semilla para garantizar reproductividad"
   ]
  },
  {
   "cell_type": "code",
   "execution_count": null,
   "id": "ebbd393b-41e9-4e39-8769-7a4f6ce41ef4",
   "metadata": {},
   "outputs": [],
   "source": [
    "tf.random.set_seed(100)"
   ]
  },
  {
   "cell_type": "markdown",
   "id": "864b49ad-64e4-4f4f-aa4e-81491f1a4207",
   "metadata": {},
   "source": [
    "#### Crear el modelo LSTM"
   ]
  },
  {
   "cell_type": "markdown",
   "id": "9e6cd900-46a8-427b-80f3-50f64df00b36",
   "metadata": {},
   "source": [
    "La forma de los datos de entrada:"
   ]
  },
  {
   "cell_type": "code",
   "execution_count": null,
   "id": "702ec29d-d43f-42e0-8c6a-03e0aa3a3bf2",
   "metadata": {},
   "outputs": [],
   "source": [
    "input_shape = (X_train.shape[1], 1)\n",
    "units = 50"
   ]
  },
  {
   "cell_type": "markdown",
   "id": "edaca3de-690d-4e87-aea7-4aa942629458",
   "metadata": {},
   "source": [
    "Las capas:"
   ]
  },
  {
   "cell_type": "code",
   "execution_count": null,
   "id": "1bf76357-d361-46bf-9b41-d9f6ae541877",
   "metadata": {},
   "outputs": [],
   "source": [
    "inputs = tf.keras.layers.Input(shape=input_shape, batch_size=None, name=None, dtype=None, sparse=None, tensor=None, ragged=None,\n",
    "                                       type_spec=None, # **kwargs\n",
    "                              )\n",
    "x = tf.keras.layers.Dropout(rate=0.1, noise_shape=None, seed=None, # **kwargs,\n",
    "            name='Dropout_01')(inputs)\n",
    "x = tf.keras.layers.LSTM(units=units, name='LSTM_layer')(x)\n",
    "x = tf.keras.layers.Dropout(0.1, name= 'Dropout_02')(x)\n",
    "outputs = tf.keras.layers.Dense(periods_to_predict)(x)"
   ]
  },
  {
   "cell_type": "markdown",
   "id": "b4d17d69-bc3f-4468-82dc-78ce0fa5adc6",
   "metadata": {},
   "source": [
    "Creación del modelo:"
   ]
  },
  {
   "cell_type": "code",
   "execution_count": null,
   "id": "7343e3b9-ae8f-4629-bc5e-dc36c504aa0e",
   "metadata": {},
   "outputs": [],
   "source": [
    "model_consumo_lecturaactual_03 = tf.keras.models.Model(inputs=inputs, outputs=outputs, name='series_LSTM_model')\n",
    "model_consumo_lecturaactual_03.summary()"
   ]
  },
  {
   "cell_type": "markdown",
   "id": "28004bb9-2ac6-4d01-b652-a32540409932",
   "metadata": {},
   "source": [
    "Compilación del modelo usando el optimizador Adam y la función de pérdida MSE:"
   ]
  },
  {
   "cell_type": "code",
   "execution_count": null,
   "id": "f4b797f5-0e82-45c7-8fd0-f28a1f3f368f",
   "metadata": {},
   "outputs": [],
   "source": [
    "model_consumo_lecturaactual_03.compile(loss='mean_squared_error', optimizer=Adam(0.001))"
   ]
  },
  {
   "cell_type": "markdown",
   "id": "dedf0bdc-3624-4928-b474-19d060054019",
   "metadata": {},
   "source": [
    "Entrenamiento del modelo:"
   ]
  },
  {
   "cell_type": "code",
   "execution_count": null,
   "id": "d085d298-ab79-4e8a-a7b6-53aa629c89ec",
   "metadata": {},
   "outputs": [],
   "source": [
    "history = model_consumo_lecturaactual_03.fit(X_train, y_train, batch_size=32, epochs=150, verbose=1, validation_split=0.1, shuffle=False)"
   ]
  },
  {
   "cell_type": "markdown",
   "id": "d452ff93-fb49-4ea4-8b77-ffa6f222c686",
   "metadata": {},
   "source": [
    "Visualización de los 'valores de pérdida de los datos de entrenamiento' y de los 'valores de pérdida de los datos de validación', para 'epoch' consecutivos."
   ]
  },
  {
   "cell_type": "code",
   "execution_count": null,
   "id": "5b73c0cd-c89a-41b7-a493-e6805f4d40f9",
   "metadata": {},
   "outputs": [],
   "source": [
    "plt.figure(figsize=(8,4))\n",
    "plt.plot(history.history['loss'], label='Entrenamiento')\n",
    "plt.plot(history.history['val_loss'], label='Validación')\n",
    "plt.title(\"Valores de pérdida de los datos de entrenamiento y de validación. Escala (0,1)\", size = 10)\n",
    "plt.legend();"
   ]
  },
  {
   "cell_type": "code",
   "execution_count": null,
   "id": "f0996d2c-d14c-4287-83ad-46b70e24c633",
   "metadata": {},
   "outputs": [],
   "source": [
    "X_test.shape"
   ]
  },
  {
   "cell_type": "markdown",
   "id": "2e2b778a-22f4-48d1-a783-504fb9232167",
   "metadata": {},
   "source": [
    "#### Generación de las predicciones para las muestras de entrada:"
   ]
  },
  {
   "cell_type": "code",
   "execution_count": null,
   "id": "6bae77fe-681f-4bc8-b7b5-e627dae3588e",
   "metadata": {},
   "outputs": [],
   "source": [
    "prediction = model_consumo_lecturaactual_03.predict(X_test)"
   ]
  },
  {
   "cell_type": "markdown",
   "id": "0d039af1-45ba-4426-a4aa-9f12f0402f22",
   "metadata": {},
   "source": [
    "Revisar las formas de los datos de validación y las predicciones:"
   ]
  },
  {
   "cell_type": "code",
   "execution_count": null,
   "id": "1c1e3b1b-a3d2-4110-be7a-8d89ab0eb67a",
   "metadata": {},
   "outputs": [],
   "source": [
    "print(X_test.shape)\n",
    "print(prediction.shape)\n",
    "print(y_test.shape)"
   ]
  },
  {
   "cell_type": "markdown",
   "id": "ec042d2c-d09b-4003-a7f1-0eea58e858b1",
   "metadata": {},
   "source": [
    "#### Visualización de las predicciones"
   ]
  },
  {
   "cell_type": "code",
   "execution_count": null,
   "id": "742f0017-c5b0-4c69-8182-43cee01d1a43",
   "metadata": {},
   "outputs": [],
   "source": [
    "pred =0\n",
    "y_train_p = X_test[pred,:]\n",
    "y_test_p = y_test[pred,:]\n",
    "y_pred_p = prediction[pred,:]"
   ]
  },
  {
   "cell_type": "code",
   "execution_count": null,
   "id": "80137926-c452-4231-a32c-bab0986dc3ca",
   "metadata": {},
   "outputs": [],
   "source": [
    "plt.figure(figsize=(8,4))\n",
    "plt.plot(np.arange(0, len(y_train_p)), y_train_p, 'g', marker='.', label=\"Lectura actual histórica\")\n",
    "plt.plot(np.arange(len(y_train_p), len(y_train_p) + len(y_test_p)), y_test_p, marker='.', label=\"Consumo\")\n",
    "plt.plot(np.arange(len(y_train_p), len(y_train_p) + len(y_test_p)), y_pred_p, 'r', marker='.', label=\"Predicción del consumo\")\n",
    "#plt.ylabel('Valor')\n",
    "plt.xlabel('Time Step')\n",
    "plt.title(\"Predicción del consumo de agua para tres periodos usando la serie 'Lectura actual'. Escala (0,1)\", size = 10)\n",
    "plt.legend()\n",
    "plt.show();"
   ]
  },
  {
   "cell_type": "code",
   "execution_count": null,
   "id": "0beda259-eab4-4332-86fe-dbe36603ad8d",
   "metadata": {},
   "outputs": [],
   "source": [
    "model_consumo_lecturaactual_03.save('../Data/modelo_consumo_lecturaactual_03.h5')"
   ]
  },
  {
   "cell_type": "markdown",
   "id": "7c2dc7a5-7108-4ae3-a9bd-e30ec32cc08b",
   "metadata": {},
   "source": [
    "### <span style=\"color:cornflowerblue\">5.5 Predicción del consumo usando la serie 'Temperatura máxima'</span>"
   ]
  },
  {
   "cell_type": "markdown",
   "id": "0b4b0ef6-87d9-4912-9d1d-99ebb6ab3026",
   "metadata": {},
   "source": [
    "#### Creación de los datos de entrenamiento y validación"
   ]
  },
  {
   "cell_type": "markdown",
   "id": "6517c5e8-d7ab-47e8-b00f-0d72067d6b96",
   "metadata": {},
   "source": [
    "Revisar las longuitudes de la serie, de los datos de entrenamiento y de los datos de validación:"
   ]
  },
  {
   "cell_type": "code",
   "execution_count": null,
   "id": "41c58beb-bba9-4064-9113-a2f6329deae8",
   "metadata": {},
   "outputs": [],
   "source": [
    "len_data = len(dataset_consumo)\n",
    "len_train = int(len_data*0.8)\n",
    "len_test = len_data - len_train\n",
    "print('Longitud de la serie = Longitud de entrenamiento + Longuitud de validación\\n', len_data, ' = ', len_train, ' + ', len_test)"
   ]
  },
  {
   "cell_type": "markdown",
   "id": "373479fa-68b7-45ae-ae0b-b3a4f8df048e",
   "metadata": {},
   "source": [
    "Como se usará el $80\\%$ de los datos de la serie para entrenamiento y la longuitud de la misma es muy corta, en este caso para fines prácticos y de aplicación del modelo, se usarán un periodo de predección de 3 meses y una ventana de tiempo de 3 meses. Lo anterior para que la función de creación de los datos de entrenamiento y de validación pueda crear vectores de validación que no sean nulos.\n",
    "\n",
    "**Nota:** Si se reduce el porcentaje de datos de entrenamiento, se podrían incrementar los periodos de predicción y de ventana de tiempo, pero debido a que la serie temporal es muy corta, dicho incremento sería pequeño.  "
   ]
  },
  {
   "cell_type": "code",
   "execution_count": null,
   "id": "eb4f0cec-828b-4bed-aaa6-13e974fcd866",
   "metadata": {},
   "outputs": [],
   "source": [
    "periods_to_predict = 3\n",
    "window_size = 3\n",
    "train_data_len = int(len_data*0.8)\n",
    "\n",
    "X_train, y_train = multipaso_data(\n",
    "    dataset=scaled_tmax, # Conjunto de datos para las secuencias de entrada\n",
    "    target=scaled_consumo, # Conjunto de datos para las secuencias de salida\n",
    "    start_index=0, # Índice inicial de donde empezar a tomar los datos\n",
    "    end_index=train_data_len, # Índice final para tomar los datos. None para tomarlos todos\n",
    "    history_size=window_size, # Tamaño de la venytana para crear las secuencias\n",
    "    target_size=periods_to_predict, # Dentro de cuántas observaciones futuras desea pronosticar\n",
    "    single_step=False #Predecir solamente un valor futuro (=True), predecir todos los valores hasta target_size(=False)\n",
    ")\n",
    "\n",
    "X_test, y_test = multipaso_data(\n",
    "    dataset=scaled_tmax,\n",
    "    target=scaled_consumo,\n",
    "    start_index=train_data_len,\n",
    "    end_index=None,\n",
    "    history_size=window_size,\n",
    "    target_size=periods_to_predict,\n",
    "    single_step=False\n",
    ")"
   ]
  },
  {
   "cell_type": "markdown",
   "id": "3ad0e645-6839-41bc-bedc-a4855a32e926",
   "metadata": {},
   "source": [
    "Revisar el tipo de los datos de entrenamiento y validación:"
   ]
  },
  {
   "cell_type": "code",
   "execution_count": null,
   "id": "cd080ece-4c6d-45fe-8940-f0dfcff1e64c",
   "metadata": {},
   "outputs": [],
   "source": [
    "print(\"X_train type is: \", type(X_train))\n",
    "print(\"y_train is: \", type(y_train))\n",
    "print(\"X_test is: \", type(X_test))\n",
    "print(\"y_test is: \", type(y_test))"
   ]
  },
  {
   "cell_type": "markdown",
   "id": "8a651a5e-2cbc-4f44-912a-e0fd694f2145",
   "metadata": {},
   "source": [
    "Revisar la forma de los datos de entrenamiento y validación:"
   ]
  },
  {
   "cell_type": "code",
   "execution_count": null,
   "id": "232e853b-225e-4a29-b975-68a5f9e91695",
   "metadata": {},
   "outputs": [],
   "source": [
    "print(\"X_train shape is: \", X_train.shape)\n",
    "print(\"y_train shape is: \", y_train.shape)\n",
    "print(\"X_test shape is: \", X_test.shape)\n",
    "print(\"y_test shape is: \", y_test.shape)"
   ]
  },
  {
   "cell_type": "markdown",
   "id": "85c33745-db51-4111-b1c7-b374c5e84a85",
   "metadata": {},
   "source": [
    "#### Generar una semilla para garantizar reproductividad"
   ]
  },
  {
   "cell_type": "code",
   "execution_count": null,
   "id": "81fa59fa-0fce-41ee-9ee8-e325a7da9407",
   "metadata": {},
   "outputs": [],
   "source": [
    "tf.random.set_seed(100)"
   ]
  },
  {
   "cell_type": "markdown",
   "id": "6a0fb488-458b-41d6-b674-be0200d4387c",
   "metadata": {},
   "source": [
    "#### Crear el modelo LSTM"
   ]
  },
  {
   "cell_type": "markdown",
   "id": "5bc9821c-54b1-43d8-87de-3d20e3a916c5",
   "metadata": {},
   "source": [
    "La forma de los datos de entrada:"
   ]
  },
  {
   "cell_type": "code",
   "execution_count": null,
   "id": "6ffdaf35-29d3-480d-86e1-d4d18310ddad",
   "metadata": {},
   "outputs": [],
   "source": [
    "input_shape = (X_train.shape[1], 1)\n",
    "units = 50"
   ]
  },
  {
   "cell_type": "markdown",
   "id": "3eb14a19-80c9-4b0e-863e-43f3479dcad3",
   "metadata": {},
   "source": [
    "Las capas:"
   ]
  },
  {
   "cell_type": "code",
   "execution_count": null,
   "id": "a5d9df32-f5d5-4af2-8c6f-6bf11b179666",
   "metadata": {},
   "outputs": [],
   "source": [
    "inputs = tf.keras.layers.Input(shape=input_shape, batch_size=None, name=None, dtype=None, sparse=None, tensor=None, ragged=None,\n",
    "                                       type_spec=None, # **kwargs\n",
    "                              )\n",
    "x = tf.keras.layers.Dropout(rate=0.1, noise_shape=None, seed=None, # **kwargs,\n",
    "            name='Dropout_01')(inputs)\n",
    "x = tf.keras.layers.LSTM(units=units, name='LSTM_layer')(x)\n",
    "x = tf.keras.layers.Dropout(0.1, name= 'Dropout_02')(x)\n",
    "outputs = tf.keras.layers.Dense(periods_to_predict)(x)"
   ]
  },
  {
   "cell_type": "markdown",
   "id": "2e5732d7-b11f-4e01-8e2b-807664d811ec",
   "metadata": {},
   "source": [
    "Creación del modelo:"
   ]
  },
  {
   "cell_type": "code",
   "execution_count": null,
   "id": "6e1949d3-e774-45bf-8797-82efe0400adb",
   "metadata": {},
   "outputs": [],
   "source": [
    "model_consumo_tmax_03 = tf.keras.models.Model(inputs=inputs, outputs=outputs, name='series_LSTM_model')\n",
    "model_consumo_tmax_03.summary()"
   ]
  },
  {
   "cell_type": "markdown",
   "id": "cf3b7aa5-9c71-44fa-9efc-6b414a0607b7",
   "metadata": {},
   "source": [
    "Compilación del modelo usando el optimizador Adam y la función de pérdida MSE:"
   ]
  },
  {
   "cell_type": "code",
   "execution_count": null,
   "id": "b2005de2-9f1b-4e5d-9d0f-f7af27047427",
   "metadata": {},
   "outputs": [],
   "source": [
    "model_consumo_tmax_03.compile(loss='mean_squared_error', optimizer=Adam(0.001))"
   ]
  },
  {
   "cell_type": "markdown",
   "id": "17ce2e10-e3af-4af6-b797-0a83193eca6e",
   "metadata": {},
   "source": [
    "Entrenamiento del modelo:"
   ]
  },
  {
   "cell_type": "code",
   "execution_count": null,
   "id": "1b268ec6-3dbe-47ec-885b-302fd80dbb66",
   "metadata": {},
   "outputs": [],
   "source": [
    "history = model_consumo_tmax_03.fit(X_train, y_train, batch_size=32, epochs=150, verbose=1, validation_split=0.1, shuffle=False)"
   ]
  },
  {
   "cell_type": "markdown",
   "id": "4afc389a-2947-46d5-a7e1-e3d4b8ce489e",
   "metadata": {},
   "source": [
    "Visualización de los 'valores de pérdida de los datos de entrenamiento' y de los 'valores de pérdida de los datos de validación', para 'epoch' consecutivos."
   ]
  },
  {
   "cell_type": "code",
   "execution_count": null,
   "id": "fe7f267e-9e4b-40ee-94d8-216e6055ca76",
   "metadata": {},
   "outputs": [],
   "source": [
    "plt.figure(figsize=(8,4))\n",
    "plt.plot(history.history['loss'], label='Entrenamiento')\n",
    "plt.plot(history.history['val_loss'], label='Validación')\n",
    "plt.title(\"Valores de pérdida de los datos de entrenamiento y de validación. Escala (0,1)\", size = 10)\n",
    "plt.legend();"
   ]
  },
  {
   "cell_type": "code",
   "execution_count": null,
   "id": "83ba3e0c-1229-4c1b-89f0-3becfe827226",
   "metadata": {},
   "outputs": [],
   "source": [
    "X_test.shape"
   ]
  },
  {
   "cell_type": "markdown",
   "id": "ee4bc010-d75e-4e73-9121-9e330bc6fb03",
   "metadata": {},
   "source": [
    "#### Generación de las predicciones para las muestras de entrada:"
   ]
  },
  {
   "cell_type": "code",
   "execution_count": null,
   "id": "d0add3d2-e227-47f4-8ff1-b6945febcff8",
   "metadata": {},
   "outputs": [],
   "source": [
    "prediction = model_consumo_tmax_03.predict(X_test)"
   ]
  },
  {
   "cell_type": "markdown",
   "id": "ef79c66e-1262-4a98-88b1-2f3228af262a",
   "metadata": {},
   "source": [
    "Revisar las formas de los datos de validación y las predicciones:"
   ]
  },
  {
   "cell_type": "code",
   "execution_count": null,
   "id": "e3e202d5-3cf4-4ae4-bd19-d6b2fa3984bb",
   "metadata": {},
   "outputs": [],
   "source": [
    "print(X_test.shape)\n",
    "print(prediction.shape)\n",
    "print(y_test.shape)"
   ]
  },
  {
   "cell_type": "markdown",
   "id": "acfb7a00-e9b0-4bd0-b946-e26bc5d66764",
   "metadata": {},
   "source": [
    "#### Visualización de las predicciones"
   ]
  },
  {
   "cell_type": "code",
   "execution_count": null,
   "id": "1886fd82-4ff1-42fe-b05a-272d4069cd9f",
   "metadata": {},
   "outputs": [],
   "source": [
    "pred =0\n",
    "y_train_p = X_test[pred,:]\n",
    "y_test_p = y_test[pred,:]\n",
    "y_pred_p = prediction[pred,:]"
   ]
  },
  {
   "cell_type": "code",
   "execution_count": null,
   "id": "172ef66e-9f5c-45e5-995e-6c3ec321e922",
   "metadata": {},
   "outputs": [],
   "source": [
    "plt.figure(figsize=(8,4))\n",
    "plt.plot(np.arange(0, len(y_train_p)), y_train_p, 'g', marker='.', label=\"Temperatura máxima histórica\")\n",
    "plt.plot(np.arange(len(y_train_p), len(y_train_p) + len(y_test_p)), y_test_p, marker='.', label=\"Consumo\")\n",
    "plt.plot(np.arange(len(y_train_p), len(y_train_p) + len(y_test_p)), y_pred_p, 'r', marker='.', label=\"Predicción del consumo\")\n",
    "#plt.ylabel('Valor')\n",
    "plt.xlabel('Time Step')\n",
    "plt.title(\"Predicción del consumo de agua para tres periodos usando la serie 'Temperatura máxima'. Escala (0,1)\", size = 10)\n",
    "plt.legend()\n",
    "plt.show();"
   ]
  },
  {
   "cell_type": "code",
   "execution_count": null,
   "id": "13ca8648-40d5-41fb-b092-c06d327e5e3a",
   "metadata": {},
   "outputs": [],
   "source": [
    "model_consumo_tmax_03.save('../Data/modelo_consumo_tmax_03.h5')"
   ]
  },
  {
   "cell_type": "markdown",
   "id": "f9ad6c71-1fe3-45c3-8297-0df3070485a4",
   "metadata": {},
   "source": [
    "### <span style=\"color:cornflowerblue\">5.6 Predicción del consumo usando la serie 'Presión barométrica máxima'</span>"
   ]
  },
  {
   "cell_type": "markdown",
   "id": "acf704e0-aeab-442b-b920-4676b8894872",
   "metadata": {},
   "source": [
    "#### Creación de los datos de entrenamiento y validación"
   ]
  },
  {
   "cell_type": "markdown",
   "id": "ccbde851-d833-474b-96b7-bdaf751dc8b1",
   "metadata": {},
   "source": [
    "Revisar las longuitudes de la serie, de los datos de entrenamiento y de los datos de validación:"
   ]
  },
  {
   "cell_type": "code",
   "execution_count": null,
   "id": "abc990fb-42bc-43cf-a14f-fc1459b01906",
   "metadata": {},
   "outputs": [],
   "source": [
    "len_data = len(dataset_consumo)\n",
    "len_train = int(len_data*0.8)\n",
    "len_test = len_data - len_train\n",
    "print('Longitud de la serie = Longitud de entrenamiento + Longuitud de validación\\n', len_data, ' = ', len_train, ' + ', len_test)"
   ]
  },
  {
   "cell_type": "markdown",
   "id": "cfb71d2e-c371-473e-813d-e5d53fd9ee22",
   "metadata": {},
   "source": [
    "Como se usará el $80\\%$ de los datos de la serie para entrenamiento y la longuitud de la misma es muy corta, en este caso para fines prácticos y de aplicación del modelo, se usarán un periodo de predección de 3 meses y una ventana de tiempo de 3 meses. Lo anterior para que la función de creación de los datos de entrenamiento y de validación pueda crear vectores de validación que no sean nulos.\n",
    "\n",
    "**Nota:** Si se reduce el porcentaje de datos de entrenamiento, se podrían incrementar los periodos de predicción y de ventana de tiempo, pero debido a que la serie temporal es muy corta, dicho incremento sería pequeño.  "
   ]
  },
  {
   "cell_type": "code",
   "execution_count": null,
   "id": "91e774a2-4457-46a9-a75b-e4cfa99a1ea4",
   "metadata": {},
   "outputs": [],
   "source": [
    "periods_to_predict = 3\n",
    "window_size = 3\n",
    "train_data_len = int(len_data*0.8)\n",
    "\n",
    "X_train, y_train = multipaso_data(\n",
    "    dataset=scaled_pbmax, # Conjunto de datos para las secuencias de entrada\n",
    "    target=scaled_consumo, # Conjunto de datos para las secuencias de salida\n",
    "    start_index=0, # Índice inicial de donde empezar a tomar los datos\n",
    "    end_index=train_data_len, # Índice final para tomar los datos. None para tomarlos todos\n",
    "    history_size=window_size, # Tamaño de la venytana para crear las secuencias\n",
    "    target_size=periods_to_predict, # Dentro de cuántas observaciones futuras desea pronosticar\n",
    "    single_step=False #Predecir solamente un valor futuro (=True), predecir todos los valores hasta target_size(=False)\n",
    ")\n",
    "\n",
    "X_test, y_test = multipaso_data(\n",
    "    dataset=scaled_pbmax,\n",
    "    target=scaled_consumo,\n",
    "    start_index=train_data_len,\n",
    "    end_index=None,\n",
    "    history_size=window_size,\n",
    "    target_size=periods_to_predict,\n",
    "    single_step=False\n",
    ")"
   ]
  },
  {
   "cell_type": "markdown",
   "id": "c7f8bcd3-0189-45d6-ab4d-3b49d83d84dd",
   "metadata": {},
   "source": [
    "Revisar el tipo de los datos de entrenamiento y validación:"
   ]
  },
  {
   "cell_type": "code",
   "execution_count": null,
   "id": "7c436855-e5e8-4008-9d7e-9bf98c0fe24c",
   "metadata": {},
   "outputs": [],
   "source": [
    "print(\"X_train type is: \", type(X_train))\n",
    "print(\"y_train is: \", type(y_train))\n",
    "print(\"X_test is: \", type(X_test))\n",
    "print(\"y_test is: \", type(y_test))"
   ]
  },
  {
   "cell_type": "markdown",
   "id": "092c0e02-e524-455c-a625-5d8599630f45",
   "metadata": {},
   "source": [
    "Revisar la forma de los datos de entrenamiento y validación:"
   ]
  },
  {
   "cell_type": "code",
   "execution_count": null,
   "id": "65d13289-4be5-4c87-8f00-e0453e2bc7c0",
   "metadata": {},
   "outputs": [],
   "source": [
    "print(\"X_train shape is: \", X_train.shape)\n",
    "print(\"y_train shape is: \", y_train.shape)\n",
    "print(\"X_test shape is: \", X_test.shape)\n",
    "print(\"y_test shape is: \", y_test.shape)"
   ]
  },
  {
   "cell_type": "markdown",
   "id": "348b834d-51c3-442c-b941-65c73d0d6c1b",
   "metadata": {},
   "source": [
    "#### Generar una semilla para garantizar reproductividad"
   ]
  },
  {
   "cell_type": "code",
   "execution_count": null,
   "id": "f5cf2f21-a76d-4f5c-9b6a-5af12749808f",
   "metadata": {},
   "outputs": [],
   "source": [
    "tf.random.set_seed(100)"
   ]
  },
  {
   "cell_type": "markdown",
   "id": "a755d63e-434a-4099-a36f-4204bec4a17c",
   "metadata": {},
   "source": [
    "#### Crear el modelo LSTM"
   ]
  },
  {
   "cell_type": "markdown",
   "id": "09c749cd-363a-494f-a884-ccab69825f51",
   "metadata": {},
   "source": [
    "La forma de los datos de entrada:"
   ]
  },
  {
   "cell_type": "code",
   "execution_count": null,
   "id": "d83d9fe5-bc4c-43e2-a8b9-b917675035a7",
   "metadata": {},
   "outputs": [],
   "source": [
    "input_shape = (X_train.shape[1], 1)\n",
    "units = 50"
   ]
  },
  {
   "cell_type": "markdown",
   "id": "b0ccf136-8ce2-4807-8f19-fd6a7e0467dc",
   "metadata": {},
   "source": [
    "Las capas:"
   ]
  },
  {
   "cell_type": "code",
   "execution_count": null,
   "id": "7d00715c-c307-4755-bc0d-0c82f68530cd",
   "metadata": {},
   "outputs": [],
   "source": [
    "inputs = tf.keras.layers.Input(shape=input_shape, batch_size=None, name=None, dtype=None, sparse=None, tensor=None, ragged=None,\n",
    "                                       type_spec=None, # **kwargs\n",
    "                              )\n",
    "x = tf.keras.layers.Dropout(rate=0.1, noise_shape=None, seed=None, # **kwargs,\n",
    "            name='Dropout_01')(inputs)\n",
    "x = tf.keras.layers.LSTM(units=units, name='LSTM_layer')(x)\n",
    "x = tf.keras.layers.Dropout(0.1, name= 'Dropout_02')(x)\n",
    "outputs = tf.keras.layers.Dense(periods_to_predict)(x)"
   ]
  },
  {
   "cell_type": "markdown",
   "id": "0ca1aca6-7599-4b7e-89b8-8e31144c57c7",
   "metadata": {},
   "source": [
    "Creación del modelo:"
   ]
  },
  {
   "cell_type": "code",
   "execution_count": null,
   "id": "13b3dda6-a5eb-457d-8377-418d4e53dfdf",
   "metadata": {},
   "outputs": [],
   "source": [
    "model_consumo_pbmax_03 = tf.keras.models.Model(inputs=inputs, outputs=outputs, name='series_LSTM_model')\n",
    "model_consumo_pbmax_03.summary()"
   ]
  },
  {
   "cell_type": "markdown",
   "id": "c1a08c4c-f521-4431-9560-f6c48527e951",
   "metadata": {},
   "source": [
    "Compilación del modelo usando el optimizador Adam y la función de pérdida MSE:"
   ]
  },
  {
   "cell_type": "code",
   "execution_count": null,
   "id": "5049ea38-b2d8-4000-9762-53ee5465334e",
   "metadata": {},
   "outputs": [],
   "source": [
    "model_consumo_pbmax_03.compile(loss='mean_squared_error', optimizer=Adam(0.001))"
   ]
  },
  {
   "cell_type": "markdown",
   "id": "bb44070f-9fc2-4a4b-9d92-8b9f7c731743",
   "metadata": {},
   "source": [
    "Entrenamiento del modelo:"
   ]
  },
  {
   "cell_type": "code",
   "execution_count": null,
   "id": "df1eb9d6-b189-4a59-abdc-d0d94e93d732",
   "metadata": {},
   "outputs": [],
   "source": [
    "history = model_consumo_pbmax_03.fit(X_train, y_train, batch_size=32, epochs=150, verbose=1, validation_split=0.1, shuffle=False)"
   ]
  },
  {
   "cell_type": "markdown",
   "id": "1383a125-3783-44c1-9b89-7448cf9e1e30",
   "metadata": {},
   "source": [
    "Visualización de los 'valores de pérdida de los datos de entrenamiento' y de los 'valores de pérdida de los datos de validación', para 'epoch' consecutivos."
   ]
  },
  {
   "cell_type": "code",
   "execution_count": null,
   "id": "4afca704-c5ea-4e80-a277-9bbcaeeac97a",
   "metadata": {},
   "outputs": [],
   "source": [
    "plt.figure(figsize=(8,4))\n",
    "plt.plot(history.history['loss'], label='Entrenamiento')\n",
    "plt.plot(history.history['val_loss'], label='Validación')\n",
    "plt.title(\"Valores de pérdida de los datos de entrenamiento y de validación. Escala (0,1)\", size = 10)\n",
    "plt.legend();"
   ]
  },
  {
   "cell_type": "code",
   "execution_count": null,
   "id": "06b379ff-0761-4855-9eee-5d8ff5cc4495",
   "metadata": {},
   "outputs": [],
   "source": [
    "X_test.shape"
   ]
  },
  {
   "cell_type": "markdown",
   "id": "8b5b3d41-62f1-453c-96e2-d53f80a4119e",
   "metadata": {},
   "source": [
    "#### Generación de las predicciones para las muestras de entrada:"
   ]
  },
  {
   "cell_type": "code",
   "execution_count": null,
   "id": "f199abda-e7b0-4670-b1fd-1bbdc2953962",
   "metadata": {},
   "outputs": [],
   "source": [
    "prediction = model_consumo_pbmax_03.predict(X_test)"
   ]
  },
  {
   "cell_type": "markdown",
   "id": "d74016de-e2dc-4e9e-add9-35dea7dde0c2",
   "metadata": {},
   "source": [
    "Revisar las formas de los datos de validación y las predicciones:"
   ]
  },
  {
   "cell_type": "code",
   "execution_count": null,
   "id": "e0001b2c-5653-4782-9204-9dc8190dd4cd",
   "metadata": {},
   "outputs": [],
   "source": [
    "print(X_test.shape)\n",
    "print(prediction.shape)\n",
    "print(y_test.shape)"
   ]
  },
  {
   "cell_type": "markdown",
   "id": "4f3c6f32-aa41-4677-927f-6ebb4ebcc68b",
   "metadata": {},
   "source": [
    "#### Visualización de las predicciones"
   ]
  },
  {
   "cell_type": "code",
   "execution_count": null,
   "id": "4e95b644-07eb-4085-957d-a4f31d03e317",
   "metadata": {},
   "outputs": [],
   "source": [
    "pred =0\n",
    "y_train_p = X_test[pred,:]\n",
    "y_test_p = y_test[pred,:]\n",
    "y_pred_p = prediction[pred,:]"
   ]
  },
  {
   "cell_type": "code",
   "execution_count": null,
   "id": "3ed25881-b211-457c-b323-2c34fdfc296d",
   "metadata": {},
   "outputs": [],
   "source": [
    "plt.figure(figsize=(8,4))\n",
    "plt.plot(np.arange(0, len(y_train_p)), y_train_p, 'g', marker='.', label=\"Presión barométrica máxima histórica\")\n",
    "plt.plot(np.arange(len(y_train_p), len(y_train_p) + len(y_test_p)), y_test_p, marker='.', label=\"Consumo\")\n",
    "plt.plot(np.arange(len(y_train_p), len(y_train_p) + len(y_test_p)), y_pred_p, 'r', marker='.', label=\"Predicción del consumo\")\n",
    "#plt.ylabel('Valor')\n",
    "plt.xlabel('Time Step')\n",
    "plt.title(\"Predicción del consumo de agua para tres periodos usando la serie 'Presión barométrica máxima'. Escala (0,1)\", size = 10)\n",
    "plt.legend()\n",
    "plt.show();"
   ]
  },
  {
   "cell_type": "code",
   "execution_count": null,
   "id": "427b2bac-cc99-498a-971a-fb892418b85c",
   "metadata": {},
   "outputs": [],
   "source": [
    "model_consumo_pbmax_03.save('../Data/modelo_consumo_pbmax_03.h5')"
   ]
  },
  {
   "cell_type": "markdown",
   "id": "b73274a2-cfa3-491a-ab81-67eca13f7fc3",
   "metadata": {},
   "source": [
    "### <span style=\"color:cornflowerblue\">5.7 Predicción del consumo usando la serie 'Velocidad del viento promedio'</span>"
   ]
  },
  {
   "cell_type": "markdown",
   "id": "4b61f780-1cb8-414a-bed2-b152f6e8bea0",
   "metadata": {},
   "source": [
    "#### Creación de los datos de entrenamiento y validación"
   ]
  },
  {
   "cell_type": "markdown",
   "id": "1d7ba40b-5743-428e-8b90-ab9c54c6c752",
   "metadata": {},
   "source": [
    "Revisar las longuitudes de la serie, de los datos de entrenamiento y de los datos de validación:"
   ]
  },
  {
   "cell_type": "code",
   "execution_count": null,
   "id": "4d686709-7205-4b35-aec2-60dec72586c3",
   "metadata": {},
   "outputs": [],
   "source": [
    "len_data = len(dataset_consumo)\n",
    "len_train = int(len_data*0.8)\n",
    "len_test = len_data - len_train\n",
    "print('Longitud de la serie = Longitud de entrenamiento + Longuitud de validación\\n', len_data, ' = ', len_train, ' + ', len_test)"
   ]
  },
  {
   "cell_type": "markdown",
   "id": "bdcfc2a5-b149-4a78-a645-a345342c7d7e",
   "metadata": {},
   "source": [
    "Como se usará el $80\\%$ de los datos de la serie para entrenamiento y la longuitud de la misma es muy corta, en este caso para fines prácticos y de aplicación del modelo, se usarán un periodo de predección de 3 meses y una ventana de tiempo de 3 meses. Lo anterior para que la función de creación de los datos de entrenamiento y de validación pueda crear vectores de validación que no sean nulos.\n",
    "\n",
    "**Nota:** Si se reduce el porcentaje de datos de entrenamiento, se podrían incrementar los periodos de predicción y de ventana de tiempo, pero debido a que la serie temporal es muy corta, dicho incremento sería pequeño.  "
   ]
  },
  {
   "cell_type": "code",
   "execution_count": null,
   "id": "58d7432f-ab2d-4b25-98bc-df130756a9ac",
   "metadata": {},
   "outputs": [],
   "source": [
    "periods_to_predict = 3\n",
    "window_size = 3\n",
    "train_data_len = int(len_data*0.8)\n",
    "\n",
    "X_train, y_train = multipaso_data(\n",
    "    dataset=scaled_vvpro, # Conjunto de datos para las secuencias de entrada\n",
    "    target=scaled_consumo, # Conjunto de datos para las secuencias de salida\n",
    "    start_index=0, # Índice inicial de donde empezar a tomar los datos\n",
    "    end_index=train_data_len, # Índice final para tomar los datos. None para tomarlos todos\n",
    "    history_size=window_size, # Tamaño de la venytana para crear las secuencias\n",
    "    target_size=periods_to_predict, # Dentro de cuántas observaciones futuras desea pronosticar\n",
    "    single_step=False #Predecir solamente un valor futuro (=True), predecir todos los valores hasta target_size(=False)\n",
    ")\n",
    "\n",
    "X_test, y_test = multipaso_data(\n",
    "    dataset=scaled_vvpro,\n",
    "    target=scaled_consumo,\n",
    "    start_index=train_data_len,\n",
    "    end_index=None,\n",
    "    history_size=window_size,\n",
    "    target_size=periods_to_predict,\n",
    "    single_step=False\n",
    ")"
   ]
  },
  {
   "cell_type": "markdown",
   "id": "a501d8c6-b220-4cc0-b23b-2349336ac445",
   "metadata": {},
   "source": [
    "Revisar el tipo de los datos de entrenamiento y validación:"
   ]
  },
  {
   "cell_type": "code",
   "execution_count": null,
   "id": "d8affbce-32ae-44f7-9d28-4a308f3afc66",
   "metadata": {},
   "outputs": [],
   "source": [
    "print(\"X_train type is: \", type(X_train))\n",
    "print(\"y_train is: \", type(y_train))\n",
    "print(\"X_test is: \", type(X_test))\n",
    "print(\"y_test is: \", type(y_test))"
   ]
  },
  {
   "cell_type": "markdown",
   "id": "868ce3a7-6279-4242-a02f-fa3839c92d78",
   "metadata": {},
   "source": [
    "Revisar la forma de los datos de entrenamiento y validación:"
   ]
  },
  {
   "cell_type": "code",
   "execution_count": null,
   "id": "d0c93fd4-24e7-4eff-96cb-d5e2b3307e17",
   "metadata": {},
   "outputs": [],
   "source": [
    "print(\"X_train shape is: \", X_train.shape)\n",
    "print(\"y_train shape is: \", y_train.shape)\n",
    "print(\"X_test shape is: \", X_test.shape)\n",
    "print(\"y_test shape is: \", y_test.shape)"
   ]
  },
  {
   "cell_type": "markdown",
   "id": "7619c5c5-e245-4f50-8b50-c4c6699a2146",
   "metadata": {},
   "source": [
    "#### Generar una semilla para garantizar reproductividad"
   ]
  },
  {
   "cell_type": "code",
   "execution_count": null,
   "id": "6c0462c1-94dc-4bf9-9ecf-ce92318155ad",
   "metadata": {},
   "outputs": [],
   "source": [
    "tf.random.set_seed(100)"
   ]
  },
  {
   "cell_type": "markdown",
   "id": "8f63f465-43a0-45f4-abb7-72cae8b85a55",
   "metadata": {},
   "source": [
    "#### Crear el modelo LSTM"
   ]
  },
  {
   "cell_type": "markdown",
   "id": "95a3d535-83eb-4c76-a6e2-a69ee811a476",
   "metadata": {},
   "source": [
    "La forma de los datos de entrada:"
   ]
  },
  {
   "cell_type": "code",
   "execution_count": null,
   "id": "98afc524-0caa-4740-a4da-9223d4cd7f0b",
   "metadata": {},
   "outputs": [],
   "source": [
    "input_shape = (X_train.shape[1], 1)\n",
    "units = 50"
   ]
  },
  {
   "cell_type": "markdown",
   "id": "f1badeef-9174-46b3-aaae-aafedefdfd07",
   "metadata": {},
   "source": [
    "Las capas:"
   ]
  },
  {
   "cell_type": "code",
   "execution_count": null,
   "id": "6c8face5-4adf-4ff0-b1d6-a3bd78b73327",
   "metadata": {},
   "outputs": [],
   "source": [
    "inputs = tf.keras.layers.Input(shape=input_shape, batch_size=None, name=None, dtype=None, sparse=None, tensor=None, ragged=None,\n",
    "                                       type_spec=None, # **kwargs\n",
    "                              )\n",
    "x = tf.keras.layers.Dropout(rate=0.1, noise_shape=None, seed=None, # **kwargs,\n",
    "            name='Dropout_01')(inputs)\n",
    "x = tf.keras.layers.LSTM(units=units, name='LSTM_layer')(x)\n",
    "x = tf.keras.layers.Dropout(0.1, name= 'Dropout_02')(x)\n",
    "outputs = tf.keras.layers.Dense(periods_to_predict)(x)"
   ]
  },
  {
   "cell_type": "markdown",
   "id": "a26ab6a8-b0c3-4156-b11c-2cca63eb9d5f",
   "metadata": {},
   "source": [
    "Creación del modelo:"
   ]
  },
  {
   "cell_type": "code",
   "execution_count": null,
   "id": "44b070b7-4a60-4a15-afa9-8d240beaa43a",
   "metadata": {},
   "outputs": [],
   "source": [
    "model_consumo_vvpro_03 = tf.keras.models.Model(inputs=inputs, outputs=outputs, name='series_LSTM_model')\n",
    "model_consumo_vvpro_03.summary()"
   ]
  },
  {
   "cell_type": "markdown",
   "id": "7324044b-95e6-458e-b7d6-4c4df8aca1f9",
   "metadata": {},
   "source": [
    "Compilación del modelo usando el optimizador Adam y la función de pérdida MSE:"
   ]
  },
  {
   "cell_type": "code",
   "execution_count": null,
   "id": "06b2b1bd-baa3-49b2-b01c-221688624a25",
   "metadata": {},
   "outputs": [],
   "source": [
    "model_consumo_vvpro_03.compile(loss='mean_squared_error', optimizer=Adam(0.001))"
   ]
  },
  {
   "cell_type": "markdown",
   "id": "7d11bcb4-dba7-4da8-9d2f-79bc289de26b",
   "metadata": {},
   "source": [
    "Entrenamiento del modelo:"
   ]
  },
  {
   "cell_type": "code",
   "execution_count": null,
   "id": "175378c0-c6d7-42f4-b1db-54dc2e6b311e",
   "metadata": {},
   "outputs": [],
   "source": [
    "history = model_consumo_vvpro_03.fit(X_train, y_train, batch_size=32, epochs=150, verbose=1, validation_split=0.1, shuffle=False)"
   ]
  },
  {
   "cell_type": "markdown",
   "id": "ad97f9cb-60bb-4f15-8bdf-ef6e0c043810",
   "metadata": {},
   "source": [
    "Visualización de los 'valores de pérdida de los datos de entrenamiento' y de los 'valores de pérdida de los datos de validación', para 'epoch' consecutivos."
   ]
  },
  {
   "cell_type": "code",
   "execution_count": null,
   "id": "79914363-4c64-454f-a801-3048a3d26b59",
   "metadata": {},
   "outputs": [],
   "source": [
    "plt.figure(figsize=(8,4))\n",
    "plt.plot(history.history['loss'], label='Entrenamiento')\n",
    "plt.plot(history.history['val_loss'], label='Validación')\n",
    "plt.title(\"Valores de pérdida de los datos de entrenamiento y de validación. Escala (0,1)\", size = 10)\n",
    "plt.legend();"
   ]
  },
  {
   "cell_type": "code",
   "execution_count": null,
   "id": "47aa6021-5b66-4ef0-9dc2-5751f6f3fedc",
   "metadata": {},
   "outputs": [],
   "source": [
    "X_test.shape"
   ]
  },
  {
   "cell_type": "markdown",
   "id": "7a62b85c-69af-40ea-a69c-bb240a345ee7",
   "metadata": {},
   "source": [
    "#### Generación de las predicciones para las muestras de entrada:"
   ]
  },
  {
   "cell_type": "code",
   "execution_count": null,
   "id": "7fac2233-5c9e-4975-953d-608756f923b6",
   "metadata": {},
   "outputs": [],
   "source": [
    "prediction = model_consumo_vvpro_03.predict(X_test)"
   ]
  },
  {
   "cell_type": "markdown",
   "id": "ef9f669b-a005-433d-afef-b4718a2e9db3",
   "metadata": {},
   "source": [
    "Revisar las formas de los datos de validación y las predicciones:"
   ]
  },
  {
   "cell_type": "code",
   "execution_count": null,
   "id": "7b7eff4d-0a58-4972-a8ac-4dc690be201d",
   "metadata": {},
   "outputs": [],
   "source": [
    "print(X_test.shape)\n",
    "print(prediction.shape)\n",
    "print(y_test.shape)"
   ]
  },
  {
   "cell_type": "markdown",
   "id": "4ea10488-b9c6-415f-b668-1289a79995e4",
   "metadata": {},
   "source": [
    "#### Visualización de las predicciones"
   ]
  },
  {
   "cell_type": "code",
   "execution_count": null,
   "id": "a2dc9468-32fc-4c7a-ad61-be8ea5d4f60e",
   "metadata": {},
   "outputs": [],
   "source": [
    "pred =0\n",
    "y_train_p = X_test[pred,:]\n",
    "y_test_p = y_test[pred,:]\n",
    "y_pred_p = prediction[pred,:]"
   ]
  },
  {
   "cell_type": "code",
   "execution_count": null,
   "id": "8b8df3a2-b374-4047-bb4a-0d19f0302591",
   "metadata": {},
   "outputs": [],
   "source": [
    "plt.figure(figsize=(8,4))\n",
    "plt.plot(np.arange(0, len(y_train_p)), y_train_p, 'g', marker='.', label=\"Velocidad del viento promedio histórica\")\n",
    "plt.plot(np.arange(len(y_train_p), len(y_train_p) + len(y_test_p)), y_test_p, marker='.', label=\"Consumo\")\n",
    "plt.plot(np.arange(len(y_train_p), len(y_train_p) + len(y_test_p)), y_pred_p, 'r', marker='.', label=\"Predicción del consumo\")\n",
    "#plt.ylabel('Valor')\n",
    "plt.xlabel('Time Step')\n",
    "plt.title(\"Predicción del consumo de agua para tres periodos usando la serie 'Velocidad del viento promedio'. Escala (0,1)\", size = 10)\n",
    "plt.legend()\n",
    "plt.show();"
   ]
  },
  {
   "cell_type": "code",
   "execution_count": null,
   "id": "1b9ed491-afdb-4177-87ef-9ab1409b4ac5",
   "metadata": {},
   "outputs": [],
   "source": [
    "model_consumo_vvpro_03.save('../Data/modelo_consumo_vvpro_03.h5')"
   ]
  },
  {
   "cell_type": "markdown",
   "id": "1cfaf736-da8d-4c92-996f-227398184245",
   "metadata": {},
   "source": [
    "### <span style=\"color:cornflowerblue\">5.8 Predicción del consumo usando la serie 'Radiación solar máxima'</span>"
   ]
  },
  {
   "cell_type": "markdown",
   "id": "53f8edb3-2ca3-4736-b2e4-947d0aedf43f",
   "metadata": {},
   "source": [
    "#### Creación de los datos de entrenamiento y validación"
   ]
  },
  {
   "cell_type": "markdown",
   "id": "c8085a4b-dbd4-4b46-8b4d-edec91f31e81",
   "metadata": {},
   "source": [
    "Revisar las longuitudes de la serie, de los datos de entrenamiento y de los datos de validación:"
   ]
  },
  {
   "cell_type": "code",
   "execution_count": null,
   "id": "383c4511-2348-458e-a9b0-f023cef18d91",
   "metadata": {},
   "outputs": [],
   "source": [
    "len_data = len(dataset_consumo)\n",
    "len_train = int(len_data*0.8)\n",
    "len_test = len_data - len_train\n",
    "print('Longitud de la serie = Longitud de entrenamiento + Longuitud de validación\\n', len_data, ' = ', len_train, ' + ', len_test)"
   ]
  },
  {
   "cell_type": "markdown",
   "id": "6d879e90-31b3-4f74-a1fd-95540a9f4663",
   "metadata": {},
   "source": [
    "Como se usará el $80\\%$ de los datos de la serie para entrenamiento y la longuitud de la misma es muy corta, en este caso para fines prácticos y de aplicación del modelo, se usarán un periodo de predección de 3 meses y una ventana de tiempo de 3 meses. Lo anterior para que la función de creación de los datos de entrenamiento y de validación pueda crear vectores de validación que no sean nulos.\n",
    "\n",
    "**Nota:** Si se reduce el porcentaje de datos de entrenamiento, se podrían incrementar los periodos de predicción y de ventana de tiempo, pero debido a que la serie temporal es muy corta, dicho incremento sería pequeño.  "
   ]
  },
  {
   "cell_type": "code",
   "execution_count": null,
   "id": "717fa3ff-16c6-476f-a0a1-3c99e9cb5b37",
   "metadata": {},
   "outputs": [],
   "source": [
    "periods_to_predict = 3\n",
    "window_size = 3\n",
    "train_data_len = int(len_data*0.8)\n",
    "\n",
    "X_train, y_train = multipaso_data(\n",
    "    dataset=scaled_rsmax, # Conjunto de datos para las secuencias de entrada\n",
    "    target=scaled_consumo, # Conjunto de datos para las secuencias de salida\n",
    "    start_index=0, # Índice inicial de donde empezar a tomar los datos\n",
    "    end_index=train_data_len, # Índice final para tomar los datos. None para tomarlos todos\n",
    "    history_size=window_size, # Tamaño de la venytana para crear las secuencias\n",
    "    target_size=periods_to_predict, # Dentro de cuántas observaciones futuras desea pronosticar\n",
    "    single_step=False #Predecir solamente un valor futuro (=True), predecir todos los valores hasta target_size(=False)\n",
    ")\n",
    "\n",
    "X_test, y_test = multipaso_data(\n",
    "    dataset=scaled_rsmax,\n",
    "    target=scaled_consumo,\n",
    "    start_index=train_data_len,\n",
    "    end_index=None,\n",
    "    history_size=window_size,\n",
    "    target_size=periods_to_predict,\n",
    "    single_step=False\n",
    ")"
   ]
  },
  {
   "cell_type": "markdown",
   "id": "79366bf0-5c5e-4226-9f75-5905de4e4e14",
   "metadata": {},
   "source": [
    "Revisar el tipo de los datos de entrenamiento y validación:"
   ]
  },
  {
   "cell_type": "code",
   "execution_count": null,
   "id": "e811b9e9-37ca-47e2-b5d8-dfb26b8c19a8",
   "metadata": {},
   "outputs": [],
   "source": [
    "print(\"X_train type is: \", type(X_train))\n",
    "print(\"y_train is: \", type(y_train))\n",
    "print(\"X_test is: \", type(X_test))\n",
    "print(\"y_test is: \", type(y_test))"
   ]
  },
  {
   "cell_type": "markdown",
   "id": "38f21237-ceaf-4707-a68f-73a84ecb58d1",
   "metadata": {},
   "source": [
    "Revisar la forma de los datos de entrenamiento y validación:"
   ]
  },
  {
   "cell_type": "code",
   "execution_count": null,
   "id": "b7d9ad0f-7984-495a-9844-edf58f363acb",
   "metadata": {},
   "outputs": [],
   "source": [
    "print(\"X_train shape is: \", X_train.shape)\n",
    "print(\"y_train shape is: \", y_train.shape)\n",
    "print(\"X_test shape is: \", X_test.shape)\n",
    "print(\"y_test shape is: \", y_test.shape)"
   ]
  },
  {
   "cell_type": "markdown",
   "id": "23fbb625-4882-4eb2-9b58-3a952dcc9328",
   "metadata": {},
   "source": [
    "#### Generar una semilla para garantizar reproductividad"
   ]
  },
  {
   "cell_type": "code",
   "execution_count": null,
   "id": "604932e9-0353-4ee8-bc92-ea84072abbfd",
   "metadata": {},
   "outputs": [],
   "source": [
    "tf.random.set_seed(100)"
   ]
  },
  {
   "cell_type": "markdown",
   "id": "8cd178a7-5975-4e89-a202-1c02da42c2f6",
   "metadata": {},
   "source": [
    "#### Crear el modelo LSTM"
   ]
  },
  {
   "cell_type": "markdown",
   "id": "8af34c9a-1898-4c75-bf50-cd6edf6ef7df",
   "metadata": {},
   "source": [
    "La forma de los datos de entrada:"
   ]
  },
  {
   "cell_type": "code",
   "execution_count": null,
   "id": "f52c3ed4-53cd-4110-92b7-a8f9ebe8146a",
   "metadata": {},
   "outputs": [],
   "source": [
    "input_shape = (X_train.shape[1], 1)\n",
    "units = 50"
   ]
  },
  {
   "cell_type": "markdown",
   "id": "18478c7f-31f7-4165-a630-33aca8a967f4",
   "metadata": {},
   "source": [
    "Las capas:"
   ]
  },
  {
   "cell_type": "code",
   "execution_count": null,
   "id": "3bbad31a-d3c9-49ec-bcf9-5d6db305cbf5",
   "metadata": {},
   "outputs": [],
   "source": [
    "inputs = tf.keras.layers.Input(shape=input_shape, batch_size=None, name=None, dtype=None, sparse=None, tensor=None, ragged=None,\n",
    "                                       type_spec=None, # **kwargs\n",
    "                              )\n",
    "x = tf.keras.layers.Dropout(rate=0.1, noise_shape=None, seed=None, # **kwargs,\n",
    "            name='Dropout_01')(inputs)\n",
    "x = tf.keras.layers.LSTM(units=units, name='LSTM_layer')(x)\n",
    "x = tf.keras.layers.Dropout(0.1, name= 'Dropout_02')(x)\n",
    "outputs = tf.keras.layers.Dense(periods_to_predict)(x)"
   ]
  },
  {
   "cell_type": "markdown",
   "id": "ac94e6d8-6ee8-49e9-83e4-a4580c02e75a",
   "metadata": {},
   "source": [
    "Creación del modelo:"
   ]
  },
  {
   "cell_type": "code",
   "execution_count": null,
   "id": "a9d264e2-7129-4b74-b466-e53e0bb6dfab",
   "metadata": {},
   "outputs": [],
   "source": [
    "model_consumo_rsmax_03 = tf.keras.models.Model(inputs=inputs, outputs=outputs, name='series_LSTM_model')\n",
    "model_consumo_rsmax_03.summary()"
   ]
  },
  {
   "cell_type": "markdown",
   "id": "ac7a0a6d-3ddf-4fd7-9005-614b8e94f136",
   "metadata": {},
   "source": [
    "Compilación del modelo usando el optimizador Adam y la función de pérdida MSE:"
   ]
  },
  {
   "cell_type": "code",
   "execution_count": null,
   "id": "39141a37-2918-4c38-9845-0cfce5a34dbc",
   "metadata": {},
   "outputs": [],
   "source": [
    "model_consumo_rsmax_03.compile(loss='mean_squared_error', optimizer=Adam(0.001))"
   ]
  },
  {
   "cell_type": "markdown",
   "id": "0c564b2f-2dcc-4937-a6a2-8ba95ec17e52",
   "metadata": {},
   "source": [
    "Entrenamiento del modelo:"
   ]
  },
  {
   "cell_type": "code",
   "execution_count": null,
   "id": "215d185f-6a91-42c2-a012-905d4c657e94",
   "metadata": {},
   "outputs": [],
   "source": [
    "history = model_consumo_rsmax_03.fit(X_train, y_train, batch_size=32, epochs=150, verbose=1, validation_split=0.1, shuffle=False)"
   ]
  },
  {
   "cell_type": "markdown",
   "id": "567bb64b-c68b-45ed-97b4-797256791fbc",
   "metadata": {},
   "source": [
    "Visualización de los 'valores de pérdida de los datos de entrenamiento' y de los 'valores de pérdida de los datos de validación', para 'epoch' consecutivos."
   ]
  },
  {
   "cell_type": "code",
   "execution_count": null,
   "id": "fdac6a1b-9fac-412f-9077-456ecff8dd53",
   "metadata": {},
   "outputs": [],
   "source": [
    "plt.figure(figsize=(8,4))\n",
    "plt.plot(history.history['loss'], label='Entrenamiento')\n",
    "plt.plot(history.history['val_loss'], label='Validación')\n",
    "plt.title(\"Valores de pérdida de los datos de entrenamiento y de validación. Escala (0,1)\", size = 10)\n",
    "plt.legend();"
   ]
  },
  {
   "cell_type": "code",
   "execution_count": null,
   "id": "c0e53952-e9c6-4416-96b2-9be1e38851cd",
   "metadata": {},
   "outputs": [],
   "source": [
    "X_test.shape"
   ]
  },
  {
   "cell_type": "markdown",
   "id": "af36d722-520e-4338-80d4-7fe274c9e6c5",
   "metadata": {},
   "source": [
    "#### Generación de las predicciones para las muestras de entrada:"
   ]
  },
  {
   "cell_type": "code",
   "execution_count": null,
   "id": "5903acd4-a367-4b30-a21e-a7693dd7ef14",
   "metadata": {},
   "outputs": [],
   "source": [
    "prediction = model_consumo_rsmax_03.predict(X_test)"
   ]
  },
  {
   "cell_type": "markdown",
   "id": "70709d5a-1d08-429c-98fd-ac1e9c07cd18",
   "metadata": {},
   "source": [
    "Revisar las formas de los datos de validación y las predicciones:"
   ]
  },
  {
   "cell_type": "code",
   "execution_count": null,
   "id": "b3916539-1a30-4823-bafe-252a23e75891",
   "metadata": {},
   "outputs": [],
   "source": [
    "print(X_test.shape)\n",
    "print(prediction.shape)\n",
    "print(y_test.shape)"
   ]
  },
  {
   "cell_type": "markdown",
   "id": "0239f5a3-5e57-42a1-8714-84e9a1be2c4c",
   "metadata": {},
   "source": [
    "#### Visualización de las predicciones"
   ]
  },
  {
   "cell_type": "code",
   "execution_count": null,
   "id": "d52acc5e-9a4f-4710-82bf-94b21063b79d",
   "metadata": {},
   "outputs": [],
   "source": [
    "pred =0\n",
    "y_train_p = X_test[pred,:]\n",
    "y_test_p = y_test[pred,:]\n",
    "y_pred_p = prediction[pred,:]"
   ]
  },
  {
   "cell_type": "code",
   "execution_count": null,
   "id": "a05683d8-b2e7-4468-88e9-e56c6f5b67a4",
   "metadata": {},
   "outputs": [],
   "source": [
    "plt.figure(figsize=(8,4))\n",
    "plt.plot(np.arange(0, len(y_train_p)), y_train_p, 'g', marker='.', label=\"Radiación solar máxima histórica\")\n",
    "plt.plot(np.arange(len(y_train_p), len(y_train_p) + len(y_test_p)), y_test_p, marker='.', label=\"Consumo\")\n",
    "plt.plot(np.arange(len(y_train_p), len(y_train_p) + len(y_test_p)), y_pred_p, 'r', marker='.', label=\"Predicción del consumo\")\n",
    "#plt.ylabel('Valor')\n",
    "plt.xlabel('Time Step')\n",
    "plt.title(\"Predicción del consumo de agua para tres periodos usando la serie 'Radiación solar máxima'. Escala (0,1)\", size = 10)\n",
    "plt.legend()\n",
    "plt.show();"
   ]
  },
  {
   "cell_type": "code",
   "execution_count": null,
   "id": "0ba5a654-cc81-4b46-b1be-7b5453e95f5f",
   "metadata": {},
   "outputs": [],
   "source": [
    "model_consumo_rsmax_03.save('../Data/modelo_consumo_rsmax_03.h5')"
   ]
  },
  {
   "cell_type": "markdown",
   "id": "0e472e62-9142-48ce-a885-ac253017a487",
   "metadata": {},
   "source": [
    "### <span style=\"color:cornflowerblue\">5.9 Predicción del consumo usando todas las series'</span>"
   ]
  },
  {
   "cell_type": "markdown",
   "id": "9be14a9b-58b7-4361-86fe-67ef7ed5b66e",
   "metadata": {},
   "source": [
    "#### Creación de los datos de entrenamiento y validación"
   ]
  },
  {
   "cell_type": "markdown",
   "id": "c77e6d67-2173-49ed-85f7-123fba367ea4",
   "metadata": {},
   "source": [
    "Revisar las longuitudes de la serie, de los datos de entrenamiento y de los datos de validación:"
   ]
  },
  {
   "cell_type": "code",
   "execution_count": null,
   "id": "70fab0de-9aab-4601-b555-fa5bee92dc55",
   "metadata": {},
   "outputs": [],
   "source": [
    "len_data = len(dataset_consumo)\n",
    "len_train = int(len_data*0.8)\n",
    "len_test = len_data - len_train\n",
    "print('Longitud de la serie = Longitud de entrenamiento + Longuitud de validación\\n', len_data, ' = ', len_train, ' + ', len_test)"
   ]
  },
  {
   "cell_type": "markdown",
   "id": "ec44e1cc-bb2a-4b83-8e8e-4b7b8d5d15a0",
   "metadata": {},
   "source": [
    "Como se usará el $80\\%$ de los datos de la serie para entrenamiento y la longuitud de la misma es muy corta, en este caso para fines prácticos y de aplicación del modelo, se usarán un periodo de predección de 3 meses y una ventana de tiempo de 3 meses. Lo anterior para que la función de creación de los datos de entrenamiento y de validación pueda crear vectores de validación que no sean nulos.\n",
    "\n",
    "**Nota:** Si se reduce el porcentaje de datos de entrenamiento, se podrían incrementar los periodos de predicción y de ventana de tiempo, pero debido a que la serie temporal es muy corta, dicho incremento sería pequeño.  "
   ]
  },
  {
   "cell_type": "code",
   "execution_count": null,
   "id": "fa905cdd-dd54-48b0-8688-cd3114e0b54f",
   "metadata": {},
   "outputs": [],
   "source": [
    "periods_to_predict = 3\n",
    "window_size = 3\n",
    "train_data_len = int(len_data*0.8)\n",
    "\n",
    "X_train, y_train = multipaso_data(\n",
    "    dataset=scaled_dataset, # Conjunto de datos para las secuencias de entrada\n",
    "    target=scaled_consumo, # Conjunto de datos para las secuencias de salida\n",
    "    start_index=0, # Índice inicial de donde empezar a tomar los datos\n",
    "    end_index=train_data_len, # Índice final para tomar los datos. None para tomarlos todos\n",
    "    history_size=window_size, # Tamaño de la venytana para crear las secuencias\n",
    "    target_size=periods_to_predict, # Dentro de cuántas observaciones futuras desea pronosticar\n",
    "    single_step=False #Predecir solamente un valor futuro (=True), predecir todos los valores hasta target_size(=False)\n",
    ")\n",
    "\n",
    "X_test, y_test = multipaso_data(\n",
    "    dataset=scaled_dataset,\n",
    "    target=scaled_consumo,\n",
    "    start_index=train_data_len,\n",
    "    end_index=None,\n",
    "    history_size=window_size,\n",
    "    target_size=periods_to_predict,\n",
    "    single_step=False\n",
    ")"
   ]
  },
  {
   "cell_type": "markdown",
   "id": "cf56cd90-7dd2-4bcd-a25e-5d8f99db14e9",
   "metadata": {},
   "source": [
    "Revisar el tipo de los datos de entrenamiento y validación:"
   ]
  },
  {
   "cell_type": "code",
   "execution_count": null,
   "id": "d8b5b765-ff0e-44a7-99b1-4838f473a4b9",
   "metadata": {},
   "outputs": [],
   "source": [
    "print(\"X_train type is: \", type(X_train))\n",
    "print(\"y_train is: \", type(y_train))\n",
    "print(\"X_test is: \", type(X_test))\n",
    "print(\"y_test is: \", type(y_test))"
   ]
  },
  {
   "cell_type": "markdown",
   "id": "96a7db6b-0726-4bfa-b284-c9caa625bb5f",
   "metadata": {},
   "source": [
    "Revisar la forma de los datos de entrenamiento y validación:"
   ]
  },
  {
   "cell_type": "code",
   "execution_count": null,
   "id": "24c6c6fe-53f4-49ce-b1e0-1c0f1419efe2",
   "metadata": {},
   "outputs": [],
   "source": [
    "print(\"X_train shape is: \", X_train.shape)\n",
    "print(\"y_train shape is: \", y_train.shape)\n",
    "print(\"X_test shape is: \", X_test.shape)\n",
    "print(\"y_test shape is: \", y_test.shape)"
   ]
  },
  {
   "cell_type": "markdown",
   "id": "ce5235fc-53ab-40bc-aff7-6d5b56563a3a",
   "metadata": {},
   "source": [
    "#### Generar una semilla para garantizar reproductividad"
   ]
  },
  {
   "cell_type": "code",
   "execution_count": null,
   "id": "4aac9fdc-e126-4d05-b13e-d83d2f9c8828",
   "metadata": {},
   "outputs": [],
   "source": [
    "tf.random.set_seed(100)"
   ]
  },
  {
   "cell_type": "markdown",
   "id": "cb9cc3e9-ea35-4e31-a6ff-d26e7672f5e5",
   "metadata": {},
   "source": [
    "#### Crear el modelo LSTM"
   ]
  },
  {
   "cell_type": "markdown",
   "id": "f361c9a4-934d-436c-ae55-1d55cf747c77",
   "metadata": {},
   "source": [
    "La forma de los datos de entrada:"
   ]
  },
  {
   "cell_type": "code",
   "execution_count": null,
   "id": "fe5ef390-6a22-42b5-80b3-506f81ea0f54",
   "metadata": {},
   "outputs": [],
   "source": [
    "input_shape = (X_train.shape[1], 6)\n",
    "units = 50"
   ]
  },
  {
   "cell_type": "markdown",
   "id": "a56a7d1e-4512-447d-9216-60ecb418ec27",
   "metadata": {},
   "source": [
    "Las capas:"
   ]
  },
  {
   "cell_type": "code",
   "execution_count": null,
   "id": "92449d87-cfbb-4dff-96b9-15ea423c246f",
   "metadata": {},
   "outputs": [],
   "source": [
    "inputs = tf.keras.layers.Input(shape=input_shape, batch_size=None, name=None, dtype=None, sparse=None, tensor=None, ragged=None,\n",
    "                                       type_spec=None, # **kwargs\n",
    "                              )\n",
    "x = tf.keras.layers.Dropout(rate=0.1, noise_shape=None, seed=None, # **kwargs,\n",
    "            name='Dropout_01')(inputs)\n",
    "x = tf.keras.layers.LSTM(units=units, name='LSTM_layer')(x)\n",
    "x = tf.keras.layers.Dropout(0.1, name= 'Dropout_02')(x)\n",
    "outputs = tf.keras.layers.Dense(periods_to_predict)(x)"
   ]
  },
  {
   "cell_type": "markdown",
   "id": "78f7a9ef-7b3b-4b87-9b5b-d32a730a1853",
   "metadata": {},
   "source": [
    "Creación del modelo:"
   ]
  },
  {
   "cell_type": "code",
   "execution_count": null,
   "id": "332504f1-bce7-4fdf-9bc1-aa84d8c192a0",
   "metadata": {},
   "outputs": [],
   "source": [
    "model_consumo_series_03 = tf.keras.models.Model(inputs=inputs, outputs=outputs, name='series_LSTM_model')\n",
    "model_consumo_series_03.summary()"
   ]
  },
  {
   "cell_type": "markdown",
   "id": "c076c8b7-18e9-447e-ba5d-8f7a48846bfa",
   "metadata": {},
   "source": [
    "Compilación del modelo usando el optimizador Adam y la función de pérdida MSE:"
   ]
  },
  {
   "cell_type": "code",
   "execution_count": null,
   "id": "26937313-60be-4997-b60e-522414289f12",
   "metadata": {},
   "outputs": [],
   "source": [
    "model_consumo_series_03.compile(loss='mean_squared_error', optimizer=Adam(0.001))"
   ]
  },
  {
   "cell_type": "markdown",
   "id": "4515de30-993b-4325-ace6-7de4b276d8da",
   "metadata": {},
   "source": [
    "Entrenamiento del modelo:"
   ]
  },
  {
   "cell_type": "code",
   "execution_count": null,
   "id": "c6e8edcc-cab4-48b5-ae77-f68649772d22",
   "metadata": {},
   "outputs": [],
   "source": [
    "history = model_consumo_series_03.fit(X_train, y_train, batch_size=32, epochs=150, verbose=1, validation_split=0.1, shuffle=False)"
   ]
  },
  {
   "cell_type": "markdown",
   "id": "2e68c3b4-687a-413e-9d7b-7ae0adc728a1",
   "metadata": {},
   "source": [
    "Visualización de los 'valores de pérdida de los datos de entrenamiento' y de los 'valores de pérdida de los datos de validación', para 'epoch' consecutivos."
   ]
  },
  {
   "cell_type": "code",
   "execution_count": null,
   "id": "b65320ff-b24e-45c2-a956-9099015d13e1",
   "metadata": {},
   "outputs": [],
   "source": [
    "plt.figure(figsize=(8,4))\n",
    "plt.plot(history.history['loss'], label='Entrenamiento')\n",
    "plt.plot(history.history['val_loss'], label='Validación')\n",
    "plt.title(\"Valores de pérdida de los datos de entrenamiento y de validación. Escala (0,1)\", size = 10)\n",
    "plt.legend();"
   ]
  },
  {
   "cell_type": "code",
   "execution_count": null,
   "id": "e653921c-f284-4227-8f03-41a37f039e4c",
   "metadata": {},
   "outputs": [],
   "source": [
    "X_test.shape"
   ]
  },
  {
   "cell_type": "markdown",
   "id": "d05da0d3-1cad-495f-991d-d8df97f0eb84",
   "metadata": {},
   "source": [
    "#### Generación de las predicciones para las muestras de entrada:"
   ]
  },
  {
   "cell_type": "code",
   "execution_count": null,
   "id": "b14e0098-7ffb-4df9-8bfd-62eab6d629e3",
   "metadata": {},
   "outputs": [],
   "source": [
    "prediction = model_consumo_series_03.predict(X_test)"
   ]
  },
  {
   "cell_type": "markdown",
   "id": "331d608c-084e-485e-a882-367a95fd1f6d",
   "metadata": {},
   "source": [
    "Revisar las formas de los datos de validación y las predicciones:"
   ]
  },
  {
   "cell_type": "code",
   "execution_count": null,
   "id": "42dab868-5725-4899-9f66-1091668ebc0e",
   "metadata": {},
   "outputs": [],
   "source": [
    "print(X_test.shape)\n",
    "print(prediction.shape)\n",
    "print(y_test.shape)"
   ]
  },
  {
   "cell_type": "markdown",
   "id": "2d45a549-851f-43a8-9feb-eae60ba6197a",
   "metadata": {},
   "source": [
    "#### Visualización de las predicciones"
   ]
  },
  {
   "cell_type": "code",
   "execution_count": null,
   "id": "c8540c42-e6e4-4de9-b2dc-cd026c4776c2",
   "metadata": {},
   "outputs": [],
   "source": [
    "pred =0\n",
    "y_train_p = X_test[pred,:]\n",
    "y_test_p = y_test[pred,:]\n",
    "y_pred_p = prediction[pred,:]"
   ]
  },
  {
   "cell_type": "code",
   "execution_count": null,
   "id": "cc4c9596-d5ed-4ba6-9a16-3bee626a394f",
   "metadata": {},
   "outputs": [],
   "source": [
    "plt.figure(figsize=(8,4))\n",
    "plt.plot(np.arange(0, len(y_train_p)), y_train_p, 'g', marker='.') #, label=\"Radiación solar máxima histórica\")\n",
    "plt.plot(np.arange(len(y_train_p), len(y_train_p) + len(y_test_p)), y_test_p, marker='.', label=\"Consumo\")\n",
    "plt.plot(np.arange(len(y_train_p), len(y_train_p) + len(y_test_p)), y_pred_p, 'r', marker='.', label=\"Predicción del consumo\")\n",
    "#plt.ylabel('Valor')\n",
    "plt.xlabel('Time Step')\n",
    "plt.title(\"Predicción del consumo de agua para tres periodos usando todas las series. Escala (0,1)\", size = 10)\n",
    "plt.legend()\n",
    "plt.show();"
   ]
  },
  {
   "cell_type": "code",
   "execution_count": null,
   "id": "75f57908-2cc2-4bbf-a400-9a3f066b5573",
   "metadata": {},
   "outputs": [],
   "source": [
    "model_consumo_series_03.save('../Data/modelo_consumo_series_03.h5')"
   ]
  }
 ],
 "metadata": {
  "celltoolbar": "Slideshow",
  "kernelspec": {
   "display_name": "Python 3 (ipykernel)",
   "language": "python",
   "name": "python3"
  },
  "language_info": {
   "codemirror_mode": {
    "name": "ipython",
    "version": 3
   },
   "file_extension": ".py",
   "mimetype": "text/x-python",
   "name": "python",
   "nbconvert_exporter": "python",
   "pygments_lexer": "ipython3",
   "version": "3.10.8"
  },
  "toc-autonumbering": false,
  "toc-showcode": false,
  "toc-showtags": false
 },
 "nbformat": 4,
 "nbformat_minor": 5
}
